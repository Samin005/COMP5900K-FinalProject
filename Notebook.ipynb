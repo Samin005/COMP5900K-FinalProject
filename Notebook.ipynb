{
 "cells": [
  {
   "cell_type": "markdown",
   "source": [
    "# COMP5900 K Final Project: A Study of Backporting in npm, PyPi and Maven Ecosystems\n",
    "\n",
    "### Authors: Samin Azhan (SaminAzhan@cmail.carleton.ca) and Elmira Adeeb (ElmiraAdeeb@cmail.carleton.ca)\n",
    "\n",
    "##### The data of the project was collected and extracted from Libraries.io (version 1.6): https://libraries.io/data"
   ],
   "metadata": {
    "collapsed": false,
    "pycharm": {
     "name": "#%% md\n"
    }
   }
  },
  {
   "cell_type": "code",
   "execution_count": 30,
   "metadata": {
    "collapsed": true,
    "pycharm": {
     "name": "#%%\n"
    }
   },
   "outputs": [],
   "source": [
    "import pandas\n",
    "import numpy as np\n",
    "import matplotlib\n",
    "import seaborn\n",
    "\n",
    "from scipy.stats import mannwhitneyu\n",
    "from cliffsDelta import cliffsDelta\n",
    "\n",
    "from IPython.display import display\n",
    "\n",
    "%matplotlib inline\n"
   ]
  },
  {
   "cell_type": "code",
   "execution_count": 31,
   "outputs": [],
   "source": [
    "FIG_SIZE = (6, 3)\n",
    "FIG_SIZE_WIDE = (9, 3)\n",
    "\n",
    "ECOSYSTEMS = ['npm', 'PyPi', 'Maven']\n",
    "DATE_RANGE = pandas.to_datetime('2015-01-01', utc=True), pandas.to_datetime('2020-01-01', utc=True)\n",
    "CENSOR_DATE = pandas.to_datetime('2020-01-12', utc=True)\n",
    "\n",
    "PALETTE = seaborn.color_palette()\n",
    "PAL_REL = np.take(seaborn.color_palette('muted'), [3, 8, 2, 0], axis=0)\n",
    "COLORS = {e: PALETTE[i] for i, e in enumerate(ECOSYSTEMS)}\n",
    "\n",
    "matplotlib.rcParams['figure.figsize'] = FIG_SIZE\n",
    "matplotlib.rcParams['legend.framealpha'] = 1\n",
    "matplotlib.rcParams['text.latex.preamble'] = r'\\usepackage{amsmath}'\n",
    "\n",
    "SAVEFIG = True\n",
    "\n",
    "def _savefig(fig, name):\n",
    "    import os\n",
    "    fig.savefig(\n",
    "        os.path.join('figures', '{}.pdf'.format(name)),\n",
    "        bbox_inches='tight'\n",
    "    )\n",
    "\n",
    "savefig = _savefig if SAVEFIG else lambda x, y: None\n"
   ],
   "metadata": {
    "collapsed": false,
    "pycharm": {
     "name": "#%%\n"
    }
   }
  },
  {
   "cell_type": "markdown",
   "source": [
    "## Survey Results\n",
    "From the survey at https://kilthub.cmu.edu/articles/dataset/Culture_and_Breaking_Change_A_Survey_of_Values_and_Practices_in_18_Open_Source_Software_Ecosystems/5108716"
   ],
   "metadata": {
    "collapsed": false,
    "pycharm": {
     "name": "#%% md\n"
    }
   }
  },
  {
   "cell_type": "code",
   "execution_count": 32,
   "outputs": [],
   "source": [
    "survey = {\n",
    "    # Disagree / agree\n",
    "    'npm': [39, 14],\n",
    "    'PyPi': [43, 12],\n",
    "    'Maven': [20, 11]\n",
    "}"
   ],
   "metadata": {
    "collapsed": false,
    "pycharm": {
     "name": "#%%\n"
    }
   }
  },
  {
   "cell_type": "code",
   "execution_count": 33,
   "outputs": [
    {
     "data": {
      "text/plain": "<Figure size 432x216 with 1 Axes>",
      "image/png": "[encoded data removed]"
     },
     "metadata": {
      "needs_background": "light"
     },
     "output_type": "display_data"
    }
   ],
   "source": [
    "fig, ax = matplotlib.pyplot.subplots()\n",
    "\n",
    "_ = (\n",
    "    pandas.DataFrame(survey, index=['disagree', 'agree'])\n",
    "    .T\n",
    "    .loc[ECOSYSTEMS]\n",
    ")\n",
    "\n",
    "_.apply(lambda s: s / s.sum(), axis=1).plot.bar(\n",
    "    color=PALETTE[3::-1],\n",
    "    alpha=0.6,\n",
    "    stacked=True,\n",
    "    ax=ax\n",
    ")\n",
    "\n",
    "for i, ecosystem in enumerate(ECOSYSTEMS):\n",
    "    total = _.loc[ecosystem].sum()\n",
    "    disagree = _.at[ecosystem, 'disagree']\n",
    "    agree = _.at[ecosystem, 'agree']\n",
    "    ax.annotate('{:}\\n({:.0%})'.format(disagree, disagree / total), (i + 0.03, disagree / total / 2), ha='center', va='center')\n",
    "\n",
    "    if agree > 0:\n",
    "        ax.annotate('{:}\\n({:.0%})'.format(agree, agree / total), (i + 0.03, 1 - (agree / total / 2)), ha='center', va='center')\n",
    "\n",
    "ax.set(\n",
    "    xlabel='',\n",
    "    ylabel='proportion of respondents',\n",
    "    ylim=(0, 1),\n",
    ")\n",
    "ax.xaxis.set_tick_params(rotation=0)\n",
    "\n",
    "ax.legend(\n",
    "    loc='lower center',\n",
    "    ncol=2,\n",
    "    bbox_to_anchor=(0.5, -0.32),\n",
    ")\n",
    "\n",
    "savefig(fig, 'backporting-agreement-2')"
   ],
   "metadata": {
    "collapsed": false,
    "pycharm": {
     "name": "#%%\n"
    }
   }
  },
  {
   "cell_type": "markdown",
   "source": [
    "## Data Overview\n"
   ],
   "metadata": {
    "collapsed": false,
    "pycharm": {
     "name": "#%% md\n"
    }
   }
  },
  {
   "cell_type": "markdown",
   "source": [
    "### Loading Data for npm, PyPi and Maven"
   ],
   "metadata": {
    "collapsed": false,
    "pycharm": {
     "name": "#%% md\n"
    }
   }
  },
  {
   "cell_type": "code",
   "execution_count": 34,
   "outputs": [
    {
     "name": "stdout",
     "output_type": "stream",
     "text": [
      "Loading npm\n",
      ".. required packages\n",
      ".. dependent packages\n",
      "Loading PyPi\n",
      ".. required packages\n",
      ".. dependent packages\n",
      "Loading Maven\n",
      ".. required packages\n",
      ".. dependent packages\n",
      "Done!\n"
     ]
    }
   ],
   "source": [
    "df_required = dict()\n",
    "df_dependents = dict()\n",
    "\n",
    "for ecosystem in ECOSYSTEMS:\n",
    "    # Changing \"NPM\" to \"npm\"\n",
    "    if ecosystem == 'npm':\n",
    "        e = 'NPM'\n",
    "    # Changing \"Pypi\" to \"PyPi\"\n",
    "    elif ecosystem == 'PyPi':\n",
    "        e = 'Pypi'\n",
    "    else: e = ecosystem\n",
    "\n",
    "    print('Loading', ecosystem)\n",
    "    print('.. required packages')\n",
    "    df_required[ecosystem] = (\n",
    "        pandas.read_csv(\n",
    "            'data/{}-required.csv.gz'.format(e),\n",
    "            parse_dates=['date'],\n",
    "            infer_datetime_format=True,\n",
    "        )\n",
    "    )\n",
    "\n",
    "    print('.. dependent packages')\n",
    "    df_dependents[ecosystem] = (\n",
    "        pandas.read_csv(\n",
    "            'data/{}-dependents.csv.gz'.format(e),\n",
    "        )\n",
    "    )\n",
    "\n",
    "print('Done!')\n"
   ],
   "metadata": {
    "collapsed": false,
    "pycharm": {
     "name": "#%%\n"
    }
   }
  },
  {
   "cell_type": "markdown",
   "source": [
    "### Data Cleaning\n"
   ],
   "metadata": {
    "collapsed": false,
    "pycharm": {
     "name": "#%% md\n"
    }
   }
  },
  {
   "cell_type": "markdown",
   "source": [
    "We will be removing packages having the following properties:\n",
    "-Step 1: Version numbers do not follow a chronological order\n",
    "-Step 2: A release precedes the release date of its corresponding major.\n"
   ],
   "metadata": {
    "collapsed": false,
    "pycharm": {
     "name": "#%% md\n"
    }
   }
  },
  {
   "cell_type": "code",
   "execution_count": 35,
   "outputs": [],
   "source": [
    "filter_1 = pandas.concat([\n",
    "    df_required[ecosystem]\n",
    "    [lambda d: d['kind'].isin(['major', 'initial'])]\n",
    "    [['package', 'rank', 'rank_date']]\n",
    "    .sort_values('rank')\n",
    "    # (1) and (2)\n",
    "    .groupby('package', sort=False, as_index=False)\n",
    "    .agg({\n",
    "        'rank_date': lambda s: s.rank().is_monotonic,\n",
    "    })\n",
    "    .query('not rank_date')\n",
    "    [['package']]\n",
    "    .assign(ecosystem=ecosystem)\n",
    "    [['ecosystem', 'package']]\n",
    "    for ecosystem in ECOSYSTEMS]\n",
    ")\n"
   ],
   "metadata": {
    "collapsed": false,
    "pycharm": {
     "name": "#%%\n"
    }
   }
  },
  {
   "cell_type": "code",
   "execution_count": 36,
   "outputs": [
    {
     "data": {
      "text/plain": "           package\necosystem         \nMaven            5\nPyPi            17\nnpm            183",
      "text/html": "<div>\n<style scoped>\n    .dataframe tbody tr th:only-of-type {\n        vertical-align: middle;\n    }\n\n    .dataframe tbody tr th {\n        vertical-align: top;\n    }\n\n    .dataframe thead th {\n        text-align: right;\n    }\n</style>\n<table border=\"1\" class=\"dataframe\">\n  <thead>\n    <tr style=\"text-align: right;\">\n      <th></th>\n      <th>package</th>\n    </tr>\n    <tr>\n      <th>ecosystem</th>\n      <th></th>\n    </tr>\n  </thead>\n  <tbody>\n    <tr>\n      <th>Maven</th>\n      <td>5</td>\n    </tr>\n    <tr>\n      <th>PyPi</th>\n      <td>17</td>\n    </tr>\n    <tr>\n      <th>npm</th>\n      <td>183</td>\n    </tr>\n  </tbody>\n</table>\n</div>"
     },
     "execution_count": 36,
     "metadata": {},
     "output_type": "execute_result"
    }
   ],
   "source": [
    "(\n",
    "     filter_1\n",
    "    .groupby('ecosystem')\n",
    "    .count()\n",
    ")\n"
   ],
   "metadata": {
    "collapsed": false,
    "pycharm": {
     "name": "#%%\n"
    }
   }
  },
  {
   "cell_type": "code",
   "execution_count": 37,
   "outputs": [],
   "source": [
    "filter_2 = pandas.concat([\n",
    "    df_required[ecosystem]\n",
    "    [lambda d: d['package'].isin(\n",
    "        df_required[ecosystem]\n",
    "        .sort_values('rank_date')\n",
    "        .groupby(['package', 'major'], sort=False, as_index=False)\n",
    "        .first()\n",
    "        .query('kind not in [\"major\", \"initial\"]')\n",
    "        .package\n",
    "    )]\n",
    "    [['package']]\n",
    "    .drop_duplicates()\n",
    "    .assign(ecosystem=ecosystem)\n",
    "    [['ecosystem', 'package']]\n",
    "    for ecosystem in ECOSYSTEMS]\n",
    ")\n"
   ],
   "metadata": {
    "collapsed": false,
    "pycharm": {
     "name": "#%%\n"
    }
   }
  },
  {
   "cell_type": "code",
   "execution_count": 38,
   "outputs": [
    {
     "data": {
      "text/plain": "           package\necosystem         \nMaven            9\nPyPi            28\nnpm            197",
      "text/html": "<div>\n<style scoped>\n    .dataframe tbody tr th:only-of-type {\n        vertical-align: middle;\n    }\n\n    .dataframe tbody tr th {\n        vertical-align: top;\n    }\n\n    .dataframe thead th {\n        text-align: right;\n    }\n</style>\n<table border=\"1\" class=\"dataframe\">\n  <thead>\n    <tr style=\"text-align: right;\">\n      <th></th>\n      <th>package</th>\n    </tr>\n    <tr>\n      <th>ecosystem</th>\n      <th></th>\n    </tr>\n  </thead>\n  <tbody>\n    <tr>\n      <th>Maven</th>\n      <td>9</td>\n    </tr>\n    <tr>\n      <th>PyPi</th>\n      <td>28</td>\n    </tr>\n    <tr>\n      <th>npm</th>\n      <td>197</td>\n    </tr>\n  </tbody>\n</table>\n</div>"
     },
     "execution_count": 38,
     "metadata": {},
     "output_type": "execute_result"
    }
   ],
   "source": [
    "(\n",
    "     filter_2\n",
    "    .groupby('ecosystem')\n",
    "    .count()\n",
    ")\n"
   ],
   "metadata": {
    "collapsed": false,
    "pycharm": {
     "name": "#%%\n"
    }
   }
  },
  {
   "cell_type": "code",
   "execution_count": 39,
   "outputs": [],
   "source": [
    "data = filter_1.append(filter_2)\n"
   ],
   "metadata": {
    "collapsed": false,
    "pycharm": {
     "name": "#%%\n"
    }
   }
  },
  {
   "cell_type": "code",
   "execution_count": 40,
   "outputs": [
    {
     "data": {
      "text/plain": "           package\necosystem         \nMaven           14\nPyPi            45\nnpm            380",
      "text/html": "<div>\n<style scoped>\n    .dataframe tbody tr th:only-of-type {\n        vertical-align: middle;\n    }\n\n    .dataframe tbody tr th {\n        vertical-align: top;\n    }\n\n    .dataframe thead th {\n        text-align: right;\n    }\n</style>\n<table border=\"1\" class=\"dataframe\">\n  <thead>\n    <tr style=\"text-align: right;\">\n      <th></th>\n      <th>package</th>\n    </tr>\n    <tr>\n      <th>ecosystem</th>\n      <th></th>\n    </tr>\n  </thead>\n  <tbody>\n    <tr>\n      <th>Maven</th>\n      <td>14</td>\n    </tr>\n    <tr>\n      <th>PyPi</th>\n      <td>45</td>\n    </tr>\n    <tr>\n      <th>npm</th>\n      <td>380</td>\n    </tr>\n  </tbody>\n</table>\n</div>"
     },
     "execution_count": 40,
     "metadata": {},
     "output_type": "execute_result"
    }
   ],
   "source": [
    "(\n",
    "    data\n",
    "    .groupby('ecosystem')\n",
    "    .count()\n",
    ")\n"
   ],
   "metadata": {
    "collapsed": false,
    "pycharm": {
     "name": "#%%\n"
    }
   }
  },
  {
   "cell_type": "markdown",
   "source": [
    "Removing these packages and related dependencies\n"
   ],
   "metadata": {
    "collapsed": false,
    "pycharm": {
     "name": "#%% md\n"
    }
   }
  },
  {
   "cell_type": "code",
   "execution_count": 41,
   "outputs": [],
   "source": [
    "for ecosystem in ECOSYSTEMS:\n",
    "    packages = data[lambda d: d['ecosystem'] == ecosystem].package\n",
    "    df_required[ecosystem] = df_required[ecosystem][lambda d: ~d['package'].isin(packages)]\n",
    "    df_dependents[ecosystem] = df_dependents[ecosystem][lambda d: ~d['target'].isin(packages)]\n"
   ],
   "metadata": {
    "collapsed": false,
    "pycharm": {
     "name": "#%%\n"
    }
   }
  },
  {
   "cell_type": "markdown",
   "source": [
    "### Updated Dataset\n"
   ],
   "metadata": {
    "collapsed": false,
    "pycharm": {
     "name": "#%% md\n"
    }
   }
  },
  {
   "cell_type": "code",
   "execution_count": 42,
   "outputs": [
    {
     "data": {
      "text/plain": "                  npm   PyPi  Maven\nrequired        15281    704    217\nreleases       570676  29896  11562\ndependents     242618  14370   1859\ndependencies  1021843  28498   3512",
      "text/html": "<div>\n<style scoped>\n    .dataframe tbody tr th:only-of-type {\n        vertical-align: middle;\n    }\n\n    .dataframe tbody tr th {\n        vertical-align: top;\n    }\n\n    .dataframe thead th {\n        text-align: right;\n    }\n</style>\n<table border=\"1\" class=\"dataframe\">\n  <thead>\n    <tr style=\"text-align: right;\">\n      <th></th>\n      <th>npm</th>\n      <th>PyPi</th>\n      <th>Maven</th>\n    </tr>\n  </thead>\n  <tbody>\n    <tr>\n      <th>required</th>\n      <td>15281</td>\n      <td>704</td>\n      <td>217</td>\n    </tr>\n    <tr>\n      <th>releases</th>\n      <td>570676</td>\n      <td>29896</td>\n      <td>11562</td>\n    </tr>\n    <tr>\n      <th>dependents</th>\n      <td>242618</td>\n      <td>14370</td>\n      <td>1859</td>\n    </tr>\n    <tr>\n      <th>dependencies</th>\n      <td>1021843</td>\n      <td>28498</td>\n      <td>3512</td>\n    </tr>\n  </tbody>\n</table>\n</div>"
     },
     "execution_count": 42,
     "metadata": {},
     "output_type": "execute_result"
    }
   ],
   "source": [
    "data = pandas.DataFrame(index=['required', 'releases', 'dependents', 'dependencies'], columns=ECOSYSTEMS)\n",
    "\n",
    "for ecosystem in ECOSYSTEMS:\n",
    "    data.at['required', ecosystem] = len(df_required[ecosystem].drop_duplicates('package'))\n",
    "    data.at['releases', ecosystem] = len(df_required[ecosystem])\n",
    "    data.at['dependents', ecosystem] = len(df_dependents[ecosystem].drop_duplicates('source'))\n",
    "    data.at['dependencies', ecosystem] = len(df_dependents[ecosystem])\n",
    "\n",
    "data\n"
   ],
   "metadata": {
    "collapsed": false,
    "pycharm": {
     "name": "#%%\n"
    }
   }
  },
  {
   "cell_type": "code",
   "execution_count": 43,
   "outputs": [
    {
     "data": {
      "text/plain": "required          16202\nreleases         612134\ndependents       258847\ndependencies    1053853\ndtype: object"
     },
     "execution_count": 43,
     "metadata": {},
     "output_type": "execute_result"
    }
   ],
   "source": [
    "data.T[['required', 'releases', 'dependents', 'dependencies']].sum()\n"
   ],
   "metadata": {
    "collapsed": false,
    "pycharm": {
     "name": "#%%\n"
    }
   }
  },
  {
   "cell_type": "markdown",
   "source": [
    "## RQ1: How many packages still depend on older versions?\n"
   ],
   "metadata": {
    "collapsed": false,
    "pycharm": {
     "name": "#%% md\n"
    }
   }
  },
  {
   "cell_type": "code",
   "execution_count": 48,
   "outputs": [],
   "source": [
    "data = pandas.concat([\n",
    "    df_dependents[ecosystem]\n",
    "    [['source', 'target', 'selected']]\n",
    "    # Get highest release of target package\n",
    "    .merge(\n",
    "        df_required[ecosystem]\n",
    "        .drop_duplicates('package', keep='last')\n",
    "        [['package', 'major', 'minor', 'patch']],\n",
    "        how='inner',\n",
    "        left_on='target',\n",
    "        right_on='package',\n",
    "    )\n",
    "    # Get release for selected one\n",
    "    .merge(\n",
    "        df_required[ecosystem]\n",
    "        [['package', 'rank', 'major', 'minor', 'patch']],\n",
    "        how='inner',\n",
    "        left_on=['target', 'selected'],\n",
    "        right_on=['package', 'rank'],\n",
    "        suffixes=(None, '_selected'),\n",
    "    )\n",
    "    .drop(columns=['package', 'package_selected', 'rank'])\n",
    "    # Identify release being used\n",
    "    .eval('''\n",
    "        latest = major_selected == major and minor_selected == minor and patch_selected == patch\n",
    "        previous_major = major_selected < major\n",
    "        previous_minor = major_selected == major and minor_selected < minor\n",
    "        previous_patch = major_selected == major and minor_selected == minor and patch_selected < patch\n",
    "    ''')\n",
    "    .assign(kind=lambda d: d[['latest', 'previous_major', 'previous_minor', 'previous_patch']].idxmax(axis=1))\n",
    "    .assign(ecosystem=ecosystem)\n",
    "    [['ecosystem', 'source', 'target', 'kind', 'major_selected', 'major']]\n",
    "    for ecosystem in ECOSYSTEMS],\n",
    ")\n"
   ],
   "metadata": {
    "collapsed": false,
    "pycharm": {
     "name": "#%%\n"
    }
   }
  },
  {
   "cell_type": "code",
   "execution_count": 51,
   "outputs": [
    {
     "data": {
      "text/plain": "<Figure size 432x216 with 1 Axes>",
      "image/png": "[encoded data removed]"
     },
     "metadata": {
      "needs_background": "light"
     },
     "output_type": "display_data"
    }
   ],
   "source": [
    "fig, ax = matplotlib.pyplot.subplots()\n",
    "\n",
    "temp = (\n",
    "    data\n",
    "    .groupby(['ecosystem', 'kind'])\n",
    "    .agg({'source': 'count'})\n",
    "    .div(\n",
    "        data\n",
    "        .groupby('ecosystem')\n",
    "        .agg({'source': 'count'})\n",
    "    )\n",
    "    .reset_index()\n",
    "    .replace({'kind': {'latest': 'up-to-date', 'previous_major': 'lower major', 'previous_minor': 'lower minor', 'previous_patch': 'lower patch'}})\n",
    ")\n",
    "\n",
    "seaborn.barplot(\n",
    "    x='ecosystem',\n",
    "    y='source',\n",
    "    hue='kind',\n",
    "    hue_order=['up-to-date', 'lower patch', 'lower minor', 'lower major'],\n",
    "    order=ECOSYSTEMS,\n",
    "    data=temp,\n",
    "    palette=np.take(PAL_REL, [2, 3, 1, 0], axis=0),\n",
    "    ax=ax\n",
    ")\n",
    "\n",
    "for i, ecosystem in enumerate(ECOSYSTEMS):\n",
    "    for j, label in enumerate(['up-to-date', 'lower patch', 'lower minor', 'lower major']):\n",
    "        value = temp[lambda d: (d['ecosystem'] == ecosystem) & (d['kind'] == label)].iloc[0].source\n",
    "        x = i + (j * 0.2 - 0.30)\n",
    "        ax.annotate('{:.0f}'.format(value * 100), (x, value + 0.03), ha='center', va='center')\n",
    "\n",
    "ax.legend(ncol=2, loc='lower center',\n",
    "    bbox_to_anchor=(0.5, -0.32))\n",
    "\n",
    "ax.set(\n",
    "    xlabel='',\n",
    "    ylabel='proportion of\\ndependent packages',\n",
    "    ylim=(0, 1.1),\n",
    ")\n",
    "\n",
    "savefig(fig, 'need_used_release')\n"
   ],
   "metadata": {
    "collapsed": false,
    "pycharm": {
     "name": "#%%\n"
    }
   }
  },
  {
   "cell_type": "code",
   "execution_count": 46,
   "outputs": [
    {
     "data": {
      "text/plain": "<pandas.io.formats.style.Styler at 0x11e2b2a7550>",
      "text/html": "<style  type=\"text/css\" >\n#T_746af_row0_col0{\n            background-color:  #dad9ea;\n            color:  #000000;\n        }#T_746af_row0_col1{\n            background-color:  #f1ebf5;\n            color:  #000000;\n        }#T_746af_row0_col2,#T_746af_row2_col1{\n            background-color:  #c6cce3;\n            color:  #000000;\n        }#T_746af_row0_col3{\n            background-color:  #93b5d6;\n            color:  #000000;\n        }#T_746af_row1_col0{\n            background-color:  #034871;\n            color:  #f1f1f1;\n        }#T_746af_row1_col1{\n            background-color:  #fdf5fa;\n            color:  #000000;\n        }#T_746af_row1_col2{\n            background-color:  #f8f1f8;\n            color:  #000000;\n        }#T_746af_row1_col3{\n            background-color:  #fff7fb;\n            color:  #000000;\n        }#T_746af_row2_col0{\n            background-color:  #3b92c1;\n            color:  #000000;\n        }#T_746af_row2_col2,#T_746af_row3_col2{\n            background-color:  #f2ecf5;\n            color:  #000000;\n        }#T_746af_row2_col3,#T_746af_row3_col3{\n            background-color:  #fcf4fa;\n            color:  #000000;\n        }#T_746af_row3_col0{\n            background-color:  #3991c1;\n            color:  #000000;\n        }#T_746af_row3_col1{\n            background-color:  #c9cee4;\n            color:  #000000;\n        }</style><table id=\"T_746af_\" ><thead>    <tr>        <th class=\"index_name level0\" >kind</th>        <th class=\"col_heading level0 col0\" >latest</th>        <th class=\"col_heading level0 col1\" >previous_major</th>        <th class=\"col_heading level0 col2\" >previous_minor</th>        <th class=\"col_heading level0 col3\" >previous_patch</th>    </tr>    <tr>        <th class=\"index_name level0\" >ecosystem</th>        <th class=\"blank\" ></th>        <th class=\"blank\" ></th>        <th class=\"blank\" ></th>        <th class=\"blank\" ></th>    </tr></thead><tbody>\n                <tr>\n                        <th id=\"T_746af_level0_row0\" class=\"row_heading level0 row0\" >Maven</th>\n                        <td id=\"T_746af_row0_col0\" class=\"data row0 col0\" >20.4%</td>\n                        <td id=\"T_746af_row0_col1\" class=\"data row0 col1\" >9.4%</td>\n                        <td id=\"T_746af_row0_col2\" class=\"data row0 col2\" >28.0%</td>\n                        <td id=\"T_746af_row0_col3\" class=\"data row0 col3\" >42.3%</td>\n            </tr>\n            <tr>\n                        <th id=\"T_746af_level0_row1\" class=\"row_heading level0 row1\" >PyPi</th>\n                        <td id=\"T_746af_row1_col0\" class=\"data row1 col0\" >93.9%</td>\n                        <td id=\"T_746af_row1_col1\" class=\"data row1 col1\" >1.6%</td>\n                        <td id=\"T_746af_row1_col2\" class=\"data row1 col2\" >4.5%</td>\n                        <td id=\"T_746af_row1_col3\" class=\"data row1 col3\" >0.0%</td>\n            </tr>\n            <tr>\n                        <th id=\"T_746af_level0_row2\" class=\"row_heading level0 row2\" >npm</th>\n                        <td id=\"T_746af_row2_col0\" class=\"data row2 col0\" >61.5%</td>\n                        <td id=\"T_746af_row2_col1\" class=\"data row2 col1\" >27.7%</td>\n                        <td id=\"T_746af_row2_col2\" class=\"data row2 col2\" >8.7%</td>\n                        <td id=\"T_746af_row2_col3\" class=\"data row2 col3\" >2.0%</td>\n            </tr>\n            <tr>\n                        <th id=\"T_746af_level0_row3\" class=\"row_heading level0 row3\" >All</th>\n                        <td id=\"T_746af_row3_col0\" class=\"data row3 col0\" >62.1%</td>\n                        <td id=\"T_746af_row3_col1\" class=\"data row3 col1\" >27.1%</td>\n                        <td id=\"T_746af_row3_col2\" class=\"data row3 col2\" >8.7%</td>\n                        <td id=\"T_746af_row3_col3\" class=\"data row3 col3\" >2.1%</td>\n            </tr>\n    </tbody></table>"
     },
     "execution_count": 46,
     "metadata": {},
     "output_type": "execute_result"
    }
   ],
   "source": [
    "(\n",
    "    pandas.crosstab(data['ecosystem'], data['kind'], normalize='index', margins=True)\n",
    "    .style.format('{:.1%}').background_gradient(vmin=0, vmax=1)\n",
    ")\n"
   ],
   "metadata": {
    "collapsed": false,
    "pycharm": {
     "name": "#%%\n"
    }
   }
  },
  {
   "cell_type": "markdown",
   "source": [
    "### Behind by how many major trains?\n"
   ],
   "metadata": {
    "collapsed": false,
    "pycharm": {
     "name": "#%% md\n"
    }
   }
  },
  {
   "cell_type": "code",
   "execution_count": 47,
   "outputs": [
    {
     "data": {
      "text/plain": "<pandas.io.formats.style.Styler at 0x11e2b25dd30>",
      "text/html": "<style  type=\"text/css\" >\n</style><table id=\"T_5d21c_\" ><thead>    <tr>        <th class=\"blank level0\" ></th>        <th class=\"col_heading level0 col0\" colspan=\"4\">source</th>    </tr>    <tr>        <th class=\"index_name level1\" >diff</th>        <th class=\"col_heading level1 col0\" >1</th>        <th class=\"col_heading level1 col1\" >2</th>        <th class=\"col_heading level1 col2\" >3</th>        <th class=\"col_heading level1 col3\" >4+</th>    </tr>    <tr>        <th class=\"index_name level0\" >ecosystem</th>        <th class=\"blank\" ></th>        <th class=\"blank\" ></th>        <th class=\"blank\" ></th>        <th class=\"blank\" ></th>    </tr></thead><tbody>\n                <tr>\n                        <th id=\"T_5d21c_level0_row0\" class=\"row_heading level0 row0\" >Maven</th>\n                        <td id=\"T_5d21c_row0_col0\" class=\"data row0 col0\" >90.7%</td>\n                        <td id=\"T_5d21c_row0_col1\" class=\"data row0 col1\" >8.1%</td>\n                        <td id=\"T_5d21c_row0_col2\" class=\"data row0 col2\" >1.1%</td>\n                        <td id=\"T_5d21c_row0_col3\" class=\"data row0 col3\" >0.0%</td>\n            </tr>\n            <tr>\n                        <th id=\"T_5d21c_level0_row1\" class=\"row_heading level0 row1\" >PyPi</th>\n                        <td id=\"T_5d21c_row1_col0\" class=\"data row1 col0\" >57.2%</td>\n                        <td id=\"T_5d21c_row1_col1\" class=\"data row1 col1\" >23.9%</td>\n                        <td id=\"T_5d21c_row1_col2\" class=\"data row1 col2\" >10.6%</td>\n                        <td id=\"T_5d21c_row1_col3\" class=\"data row1 col3\" >8.3%</td>\n            </tr>\n            <tr>\n                        <th id=\"T_5d21c_level0_row2\" class=\"row_heading level0 row2\" >npm</th>\n                        <td id=\"T_5d21c_row2_col0\" class=\"data row2 col0\" >69.4%</td>\n                        <td id=\"T_5d21c_row2_col1\" class=\"data row2 col1\" >20.0%</td>\n                        <td id=\"T_5d21c_row2_col2\" class=\"data row2 col2\" >5.9%</td>\n                        <td id=\"T_5d21c_row2_col3\" class=\"data row2 col3\" >4.7%</td>\n            </tr>\n    </tbody></table>"
     },
     "execution_count": 47,
     "metadata": {},
     "output_type": "execute_result"
    }
   ],
   "source": [
    "temp = pandas.concat([\n",
    "    df_required[ecosystem]\n",
    "    [['package', 'major']]\n",
    "    .drop_duplicates()\n",
    "    .assign(major_rank=lambda d: d.groupby('package').cumcount() + 1)\n",
    "    .assign(ecosystem=ecosystem)\n",
    "    for ecosystem in ECOSYSTEMS], axis=0\n",
    ")\n",
    "\n",
    "(\n",
    "    data\n",
    "    [lambda d: d['kind'] == 'previous_major']\n",
    "    .merge(\n",
    "        temp,\n",
    "        how='left',\n",
    "        left_on=['ecosystem', 'target', 'major_selected'],\n",
    "        right_on=['ecosystem', 'package', 'major'],\n",
    "    )\n",
    "    .drop(columns=['package', 'major_y'])\n",
    "    .rename(columns={'major_x': 'major', 'major_rank': 'major_rank_selected'})\n",
    "    .merge(\n",
    "        temp,\n",
    "        how='left',\n",
    "        left_on=['ecosystem', 'target', 'major'],\n",
    "        right_on=['ecosystem', 'package', 'major'],\n",
    "    )\n",
    "    [['ecosystem', 'source', 'target', 'major_selected', 'major_rank_selected', 'major', 'major_rank']]\n",
    "    .eval('diff = major_rank - major_rank_selected')\n",
    "    .assign(diff=lambda d: d['diff'].where(d['diff'] < 4, '4+'))\n",
    "    .groupby(['ecosystem', 'diff'])\n",
    "    [['source']]\n",
    "    .count()\n",
    "    .unstack()\n",
    "    .fillna(0)\n",
    "    .apply(lambda s: s / s.sum(), axis=1)\n",
    "    .style\n",
    "    .format('{:.1%}')\n",
    ")\n"
   ],
   "metadata": {
    "collapsed": false,
    "pycharm": {
     "name": "#%%\n"
    }
   }
  },
  {
   "cell_type": "markdown",
   "source": [
    "## RQ2: How much backporting exists in the selected package distribution systems?\n"
   ],
   "metadata": {
    "collapsed": false,
    "pycharm": {
     "name": "#%% md\n"
    }
   }
  },
  {
   "cell_type": "code",
   "execution_count": 52,
   "outputs": [],
   "source": [
    "data = pandas.concat([\n",
    "    df_required[ecosystem]\n",
    "    .assign(\n",
    "        pkg_first=lambda d: ~d['package'].duplicated(),\n",
    "        backport_first=lambda d: ~d[['package', 'backported']].duplicated() & d['backported'],\n",
    "        release=1,\n",
    "        backports=lambda d: d['backported'].astype(int),\n",
    "    )\n",
    "    .set_index('date')\n",
    "    [['pkg_first', 'backport_first', 'release', 'backports']]\n",
    "    .sort_index()\n",
    "    .cumsum()\n",
    "    .assign(\n",
    "        packages=lambda d: d['backport_first'] / d['pkg_first'],\n",
    "        releases=lambda d: d['backports'] / d['release'],\n",
    "    )\n",
    "    .assign(ecosystem=ecosystem)\n",
    "    for ecosystem in ECOSYSTEMS]\n",
    ")\n"
   ],
   "metadata": {
    "collapsed": false,
    "pycharm": {
     "name": "#%%\n"
    }
   }
  },
  {
   "cell_type": "code",
   "execution_count": 53,
   "outputs": [
    {
     "data": {
      "text/plain": "           pkg_first  backport_first  release  backports  packages  releases\necosystem                                                                   \nMaven            217              47    11562        370  0.216590  0.032001\nPyPi             704              56    29896        337  0.079545  0.011272\nnpm            15281            1010   570676       6425  0.066095  0.011259",
      "text/html": "<div>\n<style scoped>\n    .dataframe tbody tr th:only-of-type {\n        vertical-align: middle;\n    }\n\n    .dataframe tbody tr th {\n        vertical-align: top;\n    }\n\n    .dataframe thead th {\n        text-align: right;\n    }\n</style>\n<table border=\"1\" class=\"dataframe\">\n  <thead>\n    <tr style=\"text-align: right;\">\n      <th></th>\n      <th>pkg_first</th>\n      <th>backport_first</th>\n      <th>release</th>\n      <th>backports</th>\n      <th>packages</th>\n      <th>releases</th>\n    </tr>\n    <tr>\n      <th>ecosystem</th>\n      <th></th>\n      <th></th>\n      <th></th>\n      <th></th>\n      <th></th>\n      <th></th>\n    </tr>\n  </thead>\n  <tbody>\n    <tr>\n      <th>Maven</th>\n      <td>217</td>\n      <td>47</td>\n      <td>11562</td>\n      <td>370</td>\n      <td>0.216590</td>\n      <td>0.032001</td>\n    </tr>\n    <tr>\n      <th>PyPi</th>\n      <td>704</td>\n      <td>56</td>\n      <td>29896</td>\n      <td>337</td>\n      <td>0.079545</td>\n      <td>0.011272</td>\n    </tr>\n    <tr>\n      <th>npm</th>\n      <td>15281</td>\n      <td>1010</td>\n      <td>570676</td>\n      <td>6425</td>\n      <td>0.066095</td>\n      <td>0.011259</td>\n    </tr>\n  </tbody>\n</table>\n</div>"
     },
     "execution_count": 53,
     "metadata": {},
     "output_type": "execute_result"
    }
   ],
   "source": [
    "(\n",
    "    data\n",
    "    .groupby('ecosystem')\n",
    "    .last()\n",
    ")\n"
   ],
   "metadata": {
    "collapsed": false,
    "pycharm": {
     "name": "#%%\n"
    }
   }
  },
  {
   "cell_type": "code",
   "execution_count": 54,
   "outputs": [
    {
     "data": {
      "text/plain": "           package  backported         p\necosystem                               \nMaven          105          47  0.447619\nPyPi           404          56  0.138614\nnpm           8870        1010  0.113867",
      "text/html": "<div>\n<style scoped>\n    .dataframe tbody tr th:only-of-type {\n        vertical-align: middle;\n    }\n\n    .dataframe tbody tr th {\n        vertical-align: top;\n    }\n\n    .dataframe thead th {\n        text-align: right;\n    }\n</style>\n<table border=\"1\" class=\"dataframe\">\n  <thead>\n    <tr style=\"text-align: right;\">\n      <th></th>\n      <th>package</th>\n      <th>backported</th>\n      <th>p</th>\n    </tr>\n    <tr>\n      <th>ecosystem</th>\n      <th></th>\n      <th></th>\n      <th></th>\n    </tr>\n  </thead>\n  <tbody>\n    <tr>\n      <th>Maven</th>\n      <td>105</td>\n      <td>47</td>\n      <td>0.447619</td>\n    </tr>\n    <tr>\n      <th>PyPi</th>\n      <td>404</td>\n      <td>56</td>\n      <td>0.138614</td>\n    </tr>\n    <tr>\n      <th>npm</th>\n      <td>8870</td>\n      <td>1010</td>\n      <td>0.113867</td>\n    </tr>\n  </tbody>\n</table>\n</div>"
     },
     "execution_count": 54,
     "metadata": {},
     "output_type": "execute_result"
    }
   ],
   "source": [
    "(\n",
    "    pandas.concat([\n",
    "        df_required[ecosystem]\n",
    "        .groupby('package', sort=False, as_index=False)\n",
    "        .agg({'backported': 'max', 'major': 'nunique'})\n",
    "        [lambda d: d['major']  > 1]\n",
    "        .assign(ecosystem=ecosystem)\n",
    "        for ecosystem in ECOSYSTEMS]\n",
    "    )\n",
    "    .groupby('ecosystem')\n",
    "    .agg({'package': 'count', 'backported': 'sum'})\n",
    "    .assign(p=lambda d: d['backported'] / d['package'])\n",
    ")\n"
   ],
   "metadata": {
    "collapsed": false,
    "pycharm": {
     "name": "#%%\n"
    }
   }
  },
  {
   "cell_type": "markdown",
   "source": [
    "### Visualizing the proportion of packages in npm"
   ],
   "metadata": {
    "collapsed": false,
    "pycharm": {
     "name": "#%% md\n"
    }
   }
  },
  {
   "cell_type": "code",
   "execution_count": 59,
   "outputs": [],
   "source": [
    "data = pandas.concat([\n",
    "    df_required[ecosystem]\n",
    "    # Keep only packages with backported releases\n",
    "    .groupby('package', sort=False, as_index=False)\n",
    "    .filter(lambda g: g['backported'].max())\n",
    "    # Identify major branches\n",
    "    .groupby(['package', 'major'], sort=False, as_index=False)\n",
    "    .agg({'backported': 'max'})\n",
    "    .groupby('package', sort=False, as_index=False)\n",
    "    .agg({'major': 'count', 'backported': 'sum'})\n",
    "    .assign(proportion=lambda d: d['backported'] / d['major'])\n",
    "    .assign(ecosystem=ecosystem)\n",
    "    for ecosystem in ['npm']]\n",
    ")"
   ],
   "metadata": {
    "collapsed": false,
    "pycharm": {
     "name": "#%%\n"
    }
   }
  },
  {
   "cell_type": "code",
   "execution_count": 60,
   "outputs": [
    {
     "data": {
      "text/plain": "<Figure size 432x216 with 1 Axes>",
      "image/png": "[encoded data removed]"
     },
     "metadata": {
      "needs_background": "light"
     },
     "output_type": "display_data"
    }
   ],
   "source": [
    "fig, ax = matplotlib.pyplot.subplots()\n",
    "\n",
    "seaborn.heatmap(\n",
    "    data=(\n",
    "        data\n",
    "        .assign(\n",
    "            major=lambda d: d['major'].where(d['major'] < 8, '8+'),\n",
    "            backported=lambda d: d['backported'].astype(str).where(d['backported'] < 4, '4+'),\n",
    "        )\n",
    "        .groupby(['major', 'backported'], as_index=False)\n",
    "        .agg({'package': 'count'})\n",
    "        .pivot(index='major', columns='backported', values='package')\n",
    "        .div(len(data))\n",
    "        .T\n",
    "        .sort_index(ascending=False)\n",
    "    ),\n",
    "    vmin=0,\n",
    "    vmax=0.25,\n",
    "    annot=True,\n",
    "    cmap='Blues',\n",
    "    fmt='.1%',\n",
    "    cbar=False,\n",
    "    cbar_kws={'label': 'proportion of packages'},\n",
    "    ax=ax\n",
    ")\n",
    "\n",
    "ax.set(\n",
    "    xlabel='number of available major trains (npm)',\n",
    "    ylabel='major trains with backports (npm)',\n",
    ")\n",
    "\n",
    "savefig(fig, 'prev_prop_major_with_backports_npm')\n"
   ],
   "metadata": {
    "collapsed": false,
    "pycharm": {
     "name": "#%%\n"
    }
   }
  },
  {
   "cell_type": "markdown",
   "source": [
    "### Visualizing the proportion of packages in PyPi"
   ],
   "metadata": {
    "collapsed": false,
    "pycharm": {
     "name": "#%% md\n"
    }
   }
  },
  {
   "cell_type": "code",
   "execution_count": 62,
   "outputs": [],
   "source": [
    "data = pandas.concat([\n",
    "    df_required[ecosystem]\n",
    "    # Keep only packages with backported releases\n",
    "    .groupby('package', sort=False, as_index=False)\n",
    "    .filter(lambda g: g['backported'].max())\n",
    "    # Identify major branches\n",
    "    .groupby(['package', 'major'], sort=False, as_index=False)\n",
    "    .agg({'backported': 'max'})\n",
    "    .groupby('package', sort=False, as_index=False)\n",
    "    .agg({'major': 'count', 'backported': 'sum'})\n",
    "    .assign(proportion=lambda d: d['backported'] / d['major'])\n",
    "    .assign(ecosystem=ecosystem)\n",
    "    for ecosystem in ['PyPi']]\n",
    ")"
   ],
   "metadata": {
    "collapsed": false,
    "pycharm": {
     "name": "#%%\n"
    }
   }
  },
  {
   "cell_type": "code",
   "execution_count": 63,
   "outputs": [
    {
     "data": {
      "text/plain": "<Figure size 432x216 with 1 Axes>",
      "image/png": "[encoded data removed]"
     },
     "metadata": {
      "needs_background": "light"
     },
     "output_type": "display_data"
    }
   ],
   "source": [
    "fig, ax = matplotlib.pyplot.subplots()\n",
    "\n",
    "seaborn.heatmap(\n",
    "    data=(\n",
    "        data\n",
    "        .assign(\n",
    "            major=lambda d: d['major'].where(d['major'] < 8, '8+'),\n",
    "            backported=lambda d: d['backported'].astype(str).where(d['backported'] < 4, '4+'),\n",
    "        )\n",
    "        .groupby(['major', 'backported'], as_index=False)\n",
    "        .agg({'package': 'count'})\n",
    "        .pivot(index='major', columns='backported', values='package')\n",
    "        .div(len(data))\n",
    "        .T\n",
    "        .sort_index(ascending=False)\n",
    "    ),\n",
    "    vmin=0,\n",
    "    vmax=0.25,\n",
    "    annot=True,\n",
    "    cmap='Blues',\n",
    "    fmt='.1%',\n",
    "    cbar=False,\n",
    "    cbar_kws={'label': 'proportion of packages'},\n",
    "    ax=ax\n",
    ")\n",
    "\n",
    "ax.set(\n",
    "    xlabel='number of available major trains (PyPi)',\n",
    "    ylabel='major trains with backports (PyPi)',\n",
    ")\n",
    "\n",
    "savefig(fig, 'prev_prop_major_with_backports_PyPi')\n"
   ],
   "metadata": {
    "collapsed": false,
    "pycharm": {
     "name": "#%%\n"
    }
   }
  },
  {
   "cell_type": "markdown",
   "source": [
    "### Visualizing the proportion of packages in Maven"
   ],
   "metadata": {
    "collapsed": false,
    "pycharm": {
     "name": "#%% md\n"
    }
   }
  },
  {
   "cell_type": "code",
   "execution_count": 64,
   "outputs": [],
   "source": [
    "data = pandas.concat([\n",
    "    df_required[ecosystem]\n",
    "    # Keep only packages with backported releases\n",
    "    .groupby('package', sort=False, as_index=False)\n",
    "    .filter(lambda g: g['backported'].max())\n",
    "    # Identify major branches\n",
    "    .groupby(['package', 'major'], sort=False, as_index=False)\n",
    "    .agg({'backported': 'max'})\n",
    "    .groupby('package', sort=False, as_index=False)\n",
    "    .agg({'major': 'count', 'backported': 'sum'})\n",
    "    .assign(proportion=lambda d: d['backported'] / d['major'])\n",
    "    .assign(ecosystem=ecosystem)\n",
    "    for ecosystem in ['Maven']]\n",
    ")"
   ],
   "metadata": {
    "collapsed": false,
    "pycharm": {
     "name": "#%%\n"
    }
   }
  },
  {
   "cell_type": "code",
   "execution_count": 65,
   "outputs": [
    {
     "data": {
      "text/plain": "<Figure size 432x216 with 1 Axes>",
      "image/png": "[encoded data removed]"
     },
     "metadata": {
      "needs_background": "light"
     },
     "output_type": "display_data"
    }
   ],
   "source": [
    "fig, ax = matplotlib.pyplot.subplots()\n",
    "\n",
    "seaborn.heatmap(\n",
    "    data=(\n",
    "        data\n",
    "        .assign(\n",
    "            major=lambda d: d['major'].where(d['major'] < 8, '8+'),\n",
    "            backported=lambda d: d['backported'].astype(str).where(d['backported'] < 4, '4+'),\n",
    "        )\n",
    "        .groupby(['major', 'backported'], as_index=False)\n",
    "        .agg({'package': 'count'})\n",
    "        .pivot(index='major', columns='backported', values='package')\n",
    "        .div(len(data))\n",
    "        .T\n",
    "        .sort_index(ascending=False)\n",
    "    ),\n",
    "    vmin=0,\n",
    "    vmax=0.25,\n",
    "    annot=True,\n",
    "    cmap='Blues',\n",
    "    fmt='.1%',\n",
    "    cbar=False,\n",
    "    cbar_kws={'label': 'proportion of packages'},\n",
    "    ax=ax\n",
    ")\n",
    "\n",
    "ax.set(\n",
    "    xlabel='number of available major trains (Maven)',\n",
    "    ylabel='major trains with backports (Maven)',\n",
    ")\n",
    "\n",
    "savefig(fig, 'prev_prop_major_with_backports_Maven')\n"
   ],
   "metadata": {
    "collapsed": false,
    "pycharm": {
     "name": "#%%\n"
    }
   }
  },
  {
   "cell_type": "markdown",
   "source": [
    "### Visualizing the proportion of packages (regardless of the ecosystem) for each case:\n"
   ],
   "metadata": {
    "collapsed": false,
    "pycharm": {
     "name": "#%% md\n"
    }
   }
  },
  {
   "cell_type": "code",
   "execution_count": 57,
   "outputs": [],
   "source": [
    "data = pandas.concat([\n",
    "    df_required[ecosystem]\n",
    "    # Keep only packages with backported releases\n",
    "    .groupby('package', sort=False, as_index=False)\n",
    "    .filter(lambda g: g['backported'].max())\n",
    "    # Identify major branches\n",
    "    .groupby(['package', 'major'], sort=False, as_index=False)\n",
    "    .agg({'backported': 'max'})\n",
    "    .groupby('package', sort=False, as_index=False)\n",
    "    .agg({'major': 'count', 'backported': 'sum'})\n",
    "    .assign(proportion=lambda d: d['backported'] / d['major'])\n",
    "    .assign(ecosystem=ecosystem)\n",
    "    for ecosystem in ECOSYSTEMS]\n",
    ")"
   ],
   "metadata": {
    "collapsed": false,
    "pycharm": {
     "name": "#%%\n"
    }
   }
  },
  {
   "cell_type": "code",
   "execution_count": 58,
   "outputs": [
    {
     "data": {
      "text/plain": "<Figure size 432x216 with 1 Axes>",
      "image/png": "[encoded data removed]"
     },
     "metadata": {
      "needs_background": "light"
     },
     "output_type": "display_data"
    }
   ],
   "source": [
    "fig, ax = matplotlib.pyplot.subplots()\n",
    "\n",
    "seaborn.heatmap(\n",
    "    data=(\n",
    "        data\n",
    "        .assign(\n",
    "            major=lambda d: d['major'].where(d['major'] < 8, '8+'),\n",
    "            backported=lambda d: d['backported'].astype(str).where(d['backported'] < 4, '4+'),\n",
    "        )\n",
    "        .groupby(['major', 'backported'], as_index=False)\n",
    "        .agg({'package': 'count'})\n",
    "        .pivot(index='major', columns='backported', values='package')\n",
    "        .div(len(data))\n",
    "        .T\n",
    "        .sort_index(ascending=False)\n",
    "    ),\n",
    "    vmin=0,\n",
    "    vmax=0.25,\n",
    "    annot=True,\n",
    "    cmap='Blues',\n",
    "    fmt='.1%',\n",
    "    cbar=False,\n",
    "    cbar_kws={'label': 'proportion of packages'},\n",
    "    ax=ax\n",
    ")\n",
    "\n",
    "ax.set(\n",
    "    xlabel='number of available major trains',\n",
    "    ylabel='major trains with backports',\n",
    ")\n",
    "\n",
    "savefig(fig, 'prev_prop_major_with_backports_all')\n"
   ],
   "metadata": {
    "collapsed": false,
    "pycharm": {
     "name": "#%%\n"
    }
   }
  },
  {
   "cell_type": "markdown",
   "source": [
    "## RQ3: Do packages with backports exhibit different characteristics?\n"
   ],
   "metadata": {
    "collapsed": false,
    "pycharm": {
     "name": "#%% md\n"
    }
   }
  },
  {
   "cell_type": "markdown",
   "source": [
    "### Lifespan of packages with and without backports\n"
   ],
   "metadata": {
    "collapsed": false,
    "pycharm": {
     "name": "#%% md\n"
    }
   }
  },
  {
   "cell_type": "code",
   "execution_count": 73,
   "outputs": [],
   "source": [
    "data = pandas.concat([\n",
    "    df_required[ecosystem]\n",
    "    .groupby(['package'], sort=False, as_index=False)\n",
    "    .agg(\n",
    "        first=('date', 'min'),\n",
    "        last=('date', 'max'),\n",
    "        releases=('version', 'count'),\n",
    "        backports=('backported', 'sum'),\n",
    "        backport=('backported', 'max'),\n",
    "    )\n",
    "    # Remove single release packages, since age is 0 and frequency is inf\n",
    "    [lambda d: d['releases'] > 1]\n",
    "    .assign(age=lambda d: (d['last'] - d['first']) / pandas.to_timedelta('365 days'))\n",
    "    .assign(frequency=lambda d: (d['releases'] - d['backports']) / d['age'])\n",
    "    .assign(ecosystem=ecosystem)\n",
    "    for ecosystem in ECOSYSTEMS], axis=0\n",
    ")\n"
   ],
   "metadata": {
    "collapsed": false,
    "pycharm": {
     "name": "#%%\n"
    }
   }
  },
  {
   "cell_type": "code",
   "execution_count": 74,
   "outputs": [
    {
     "data": {
      "text/plain": "<Figure size 432x216 with 1 Axes>",
      "image/png": "[encoded data removed]"
     },
     "metadata": {
      "needs_background": "light"
     },
     "output_type": "display_data"
    }
   ],
   "source": [
    "fig, ax = matplotlib.pyplot.subplots()\n",
    "\n",
    "seaborn.boxenplot(\n",
    "    x='ecosystem',\n",
    "    y='age',\n",
    "    hue='backport',\n",
    "    data=(\n",
    "        data\n",
    "        .replace({'backport': {True: 'with backports', False: 'without backports'}})\n",
    "    ),\n",
    "    order=ECOSYSTEMS,\n",
    "    palette=PAL_REL,\n",
    "    ax=ax,\n",
    ")\n",
    "\n",
    "ax.legend(title=None, ncol=2, loc='lower center',\n",
    "    bbox_to_anchor=(0.5, -0.32))\n",
    "\n",
    "ax.set(\n",
    "    xlabel='',\n",
    "    ylabel='package age (in years)',\n",
    "    ylim=(0, 15),\n",
    ")\n",
    "\n",
    "savefig(fig, 'char_package_age')\n"
   ],
   "metadata": {
    "collapsed": false,
    "pycharm": {
     "name": "#%%\n"
    }
   }
  },
  {
   "cell_type": "code",
   "execution_count": 75,
   "outputs": [
    {
     "name": "stdout",
     "output_type": "stream",
     "text": [
      "                      count      mean       std       min       25%       50%       75%        max\n",
      "ecosystem backport                                                                                \n",
      "Maven     False       169.0  4.139068  3.796089  0.016438  1.394137  2.600043  5.160980  14.250941\n",
      "          True         47.0  5.503433  3.148047  1.005363  2.672732  5.258554  8.053106  13.313203\n",
      "PyPi      False       648.0  5.214540  2.953159  0.000507  3.060383  4.983150  7.219294  13.982982\n",
      "          True         56.0  7.425181  2.868222  2.448879  5.474942  6.735812  9.451860  13.866868\n",
      "npm       False     13838.0  2.406072  1.898542  0.000001  0.865093  2.014469  3.525708   9.037212\n",
      "          True       1010.0  3.586221  1.932858  0.251463  2.156691  3.128774  4.690842   9.064915\n"
     ]
    }
   ],
   "source": [
    "print(\n",
    "    data\n",
    "    .groupby(['ecosystem', 'backport'])\n",
    "    .age.describe()\n",
    "    .to_string()\n",
    ")\n"
   ],
   "metadata": {
    "collapsed": false,
    "pycharm": {
     "name": "#%%\n"
    }
   }
  },
  {
   "cell_type": "code",
   "execution_count": 76,
   "outputs": [
    {
     "name": "stdout",
     "output_type": "stream",
     "text": [
      "npm        with vs. without: p=0.00000; d=0.367 (medium)\n",
      "PyPi       with vs. without: p=0.00000; d=0.408 (medium)\n",
      "Maven      with vs. without: p=0.00039; d=0.321 (small)\n"
     ]
    }
   ],
   "source": [
    "for ecosystem in ECOSYSTEMS:\n",
    "    A = data[lambda d: (d['ecosystem'] == ecosystem) & (d['backport'] > 0)].age\n",
    "    B = data[lambda d: (d['ecosystem'] == ecosystem) & (d['backport'] == 0)].age\n",
    "    m = mannwhitneyu(A, B)\n",
    "    d, dl = cliffsDelta(A, B)\n",
    "\n",
    "    print('{:10} with vs. without: p={:.5f}; d={:.3f} ({})'.format(ecosystem, m.pvalue, d, dl))\n"
   ],
   "metadata": {
    "collapsed": false,
    "pycharm": {
     "name": "#%%\n"
    }
   }
  },
  {
   "cell_type": "markdown",
   "source": [
    "### Release frequency of packages with and without backports\n"
   ],
   "metadata": {
    "collapsed": false,
    "pycharm": {
     "name": "#%% md\n"
    }
   }
  },
  {
   "cell_type": "code",
   "execution_count": 77,
   "outputs": [
    {
     "data": {
      "text/plain": "<Figure size 432x216 with 1 Axes>",
      "image/png": "[encoded data removed]"
     },
     "metadata": {
      "needs_background": "light"
     },
     "output_type": "display_data"
    }
   ],
   "source": [
    "fig, ax = matplotlib.pyplot.subplots()\n",
    "\n",
    "seaborn.boxenplot(\n",
    "    x='ecosystem',\n",
    "    y='frequency',\n",
    "    hue='backport',\n",
    "    data=(\n",
    "        data\n",
    "        .replace({'backport': {True: 'with backports', False: 'without backports'}})\n",
    "    ),\n",
    "    order=ECOSYSTEMS,\n",
    "    palette=PAL_REL,\n",
    "    ax=ax,\n",
    ")\n",
    "\n",
    "ax.legend(title=None, ncol=2, loc='lower center',\n",
    "    bbox_to_anchor=(0.5, -0.32))\n",
    "\n",
    "ax.set(\n",
    "    xlabel='',\n",
    "    ylabel='release frequency\\n(#releases/year)',\n",
    "    ylim=(0, 100),\n",
    ")\n",
    "\n",
    "savefig(fig, 'char_package_frequency')\n"
   ],
   "metadata": {
    "collapsed": false,
    "pycharm": {
     "name": "#%%\n"
    }
   }
  },
  {
   "cell_type": "code",
   "execution_count": 78,
   "outputs": [
    {
     "name": "stdout",
     "output_type": "stream",
     "text": [
      "                      count        mean        50%\n",
      "ecosystem backport                                \n",
      "Maven     False       169.0   19.772497  12.102323\n",
      "          True         47.0   13.626298   9.332654\n",
      "PyPi      False       648.0   21.252324   5.328641\n",
      "          True         56.0    9.078155   7.569505\n",
      "npm       False     13838.0  972.990056  11.996832\n",
      "          True       1010.0   29.671051  15.999950\n"
     ]
    }
   ],
   "source": [
    "print(\n",
    "    data\n",
    "    .groupby(['ecosystem', 'backport'])\n",
    "    .frequency.describe()\n",
    "    [['count', 'mean', '50%']]\n",
    "    .to_string()\n",
    ")\n"
   ],
   "metadata": {
    "collapsed": false,
    "pycharm": {
     "name": "#%%\n"
    }
   }
  },
  {
   "cell_type": "code",
   "execution_count": 79,
   "outputs": [
    {
     "name": "stdout",
     "output_type": "stream",
     "text": [
      "npm        with vs. without: p=0.00000; d=0.150 (small)\n",
      "PyPi       with vs. without: p=0.00250; d=0.226 (small)\n",
      "Maven      with vs. without: p=0.44335; d=0.014 (negligible)\n"
     ]
    }
   ],
   "source": [
    "for ecosystem in ECOSYSTEMS:\n",
    "    A = data[lambda d: (d['ecosystem'] == ecosystem) & (d['backport'] > 0)].frequency\n",
    "    B = data[lambda d: (d['ecosystem'] == ecosystem) & (d['backport'] == 0)].frequency\n",
    "    m = mannwhitneyu(A, B)\n",
    "    d, dl = cliffsDelta(A, B)\n",
    "\n",
    "    print('{:10} with vs. without: p={:.5f}; d={:.3f} ({})'.format(ecosystem, m.pvalue, d, dl))\n"
   ],
   "metadata": {
    "collapsed": false,
    "pycharm": {
     "name": "#%%\n"
    }
   }
  },
  {
   "cell_type": "markdown",
   "source": [
    "### Number of dependent packages with and without backports\n"
   ],
   "metadata": {
    "collapsed": false,
    "pycharm": {
     "name": "#%% md\n"
    }
   }
  },
  {
   "cell_type": "code",
   "execution_count": 80,
   "outputs": [],
   "source": [
    "data = pandas.concat([\n",
    "    df_required[ecosystem]\n",
    "    # Get dependents for each release\n",
    "    .merge(\n",
    "        df_dependents[ecosystem]\n",
    "        [['source', 'target', 'selected']],\n",
    "        how='left',\n",
    "        left_on=['package', 'rank'],\n",
    "        right_on=['target', 'selected']\n",
    "    )\n",
    "    # Group per major release, and count dependents\n",
    "    .groupby(['package', 'major'], as_index=False)\n",
    "    .agg({'source': 'count', 'backported': 'sum'})\n",
    "    # For each package, get nb major, used major, dependents and backports\n",
    "    .assign(used_major=lambda d: d['source'] > 0)\n",
    "    .groupby('package', as_index=False, sort=False)\n",
    "    .agg(\n",
    "        major=('major', 'count'),\n",
    "        used_major=('used_major', 'sum'),\n",
    "        backports=('backported', 'sum')\n",
    "    )\n",
    "    .merge(\n",
    "        df_dependents[ecosystem]\n",
    "        .groupby('target', sort=False, as_index=False)\n",
    "        .agg(dependents=('source', 'count')),\n",
    "        how='left',\n",
    "        left_on='package',\n",
    "        right_on='target',\n",
    "    )\n",
    "    .assign(ecosystem=ecosystem)\n",
    "    for ecosystem in ECOSYSTEMS]\n",
    ")\n"
   ],
   "metadata": {
    "collapsed": false,
    "pycharm": {
     "name": "#%%\n"
    }
   }
  },
  {
   "cell_type": "code",
   "execution_count": 81,
   "outputs": [
    {
     "data": {
      "text/plain": "<Figure size 432x216 with 1 Axes>",
      "image/png": "[encoded data removed]"
     },
     "metadata": {
      "needs_background": "light"
     },
     "output_type": "display_data"
    }
   ],
   "source": [
    "fig, ax = matplotlib.pyplot.subplots()\n",
    "\n",
    "seaborn.boxenplot(\n",
    "    x='ecosystem',\n",
    "    y='dependents',\n",
    "    hue='backports',\n",
    "    data=(\n",
    "        data\n",
    "        .assign(backports=lambda d: d['backports'] > 0)\n",
    "        .replace({'backports': {True: 'with backports', False: 'without backports'}})\n",
    "    ),\n",
    "    order=ECOSYSTEMS,\n",
    "    palette=PAL_REL,\n",
    "    ax=ax,\n",
    ")\n",
    "\n",
    "ax.legend(title=None, ncol=2, loc='lower center',\n",
    "    bbox_to_anchor=(0.5, -0.32))\n",
    "\n",
    "ax.set(\n",
    "    xlabel='',\n",
    "    ylabel='number of\\ndependent packages',\n",
    "    yscale='symlog',\n",
    "    ylim=(1, 10e4),\n",
    ")\n",
    "\n",
    "savefig(fig, 'prev_backport_dependents')\n"
   ],
   "metadata": {
    "collapsed": false,
    "pycharm": {
     "name": "#%%\n"
    }
   }
  },
  {
   "cell_type": "code",
   "execution_count": 82,
   "outputs": [
    {
     "data": {
      "text/plain": "                            dependents                                       \\\n                                 count        mean          std  min    25%   \necosystem backports                                                           \nMaven     with backports          47.0   11.553191     7.711675  5.0   5.50   \n          without backports      170.0   17.464706    37.335540  5.0   5.25   \nPyPi      with backports          56.0   41.821429    62.045176  5.0  10.00   \n          without backports      648.0   40.364198   219.559564  5.0   6.00   \nnpm       with backports        1010.0  279.304950  1360.764012  5.0   9.00   \n          without backports    14271.0   51.835541   373.278294  5.0   6.00   \n\n                                                   \n                              50%    75%      max  \necosystem backports                                \nMaven     with backports      9.0  14.00     39.0  \n          without backports   7.0  13.00    397.0  \nPyPi      with backports     18.5  55.50    399.0  \n          without backports  10.0  23.25   4883.0  \nnpm       with backports     20.0  72.00  26163.0  \n          without backports  10.0  22.00  18354.0  ",
      "text/html": "<div>\n<style scoped>\n    .dataframe tbody tr th:only-of-type {\n        vertical-align: middle;\n    }\n\n    .dataframe tbody tr th {\n        vertical-align: top;\n    }\n\n    .dataframe thead tr th {\n        text-align: left;\n    }\n\n    .dataframe thead tr:last-of-type th {\n        text-align: right;\n    }\n</style>\n<table border=\"1\" class=\"dataframe\">\n  <thead>\n    <tr>\n      <th></th>\n      <th></th>\n      <th colspan=\"8\" halign=\"left\">dependents</th>\n    </tr>\n    <tr>\n      <th></th>\n      <th></th>\n      <th>count</th>\n      <th>mean</th>\n      <th>std</th>\n      <th>min</th>\n      <th>25%</th>\n      <th>50%</th>\n      <th>75%</th>\n      <th>max</th>\n    </tr>\n    <tr>\n      <th>ecosystem</th>\n      <th>backports</th>\n      <th></th>\n      <th></th>\n      <th></th>\n      <th></th>\n      <th></th>\n      <th></th>\n      <th></th>\n      <th></th>\n    </tr>\n  </thead>\n  <tbody>\n    <tr>\n      <th rowspan=\"2\" valign=\"top\">Maven</th>\n      <th>with backports</th>\n      <td>47.0</td>\n      <td>11.553191</td>\n      <td>7.711675</td>\n      <td>5.0</td>\n      <td>5.50</td>\n      <td>9.0</td>\n      <td>14.00</td>\n      <td>39.0</td>\n    </tr>\n    <tr>\n      <th>without backports</th>\n      <td>170.0</td>\n      <td>17.464706</td>\n      <td>37.335540</td>\n      <td>5.0</td>\n      <td>5.25</td>\n      <td>7.0</td>\n      <td>13.00</td>\n      <td>397.0</td>\n    </tr>\n    <tr>\n      <th rowspan=\"2\" valign=\"top\">PyPi</th>\n      <th>with backports</th>\n      <td>56.0</td>\n      <td>41.821429</td>\n      <td>62.045176</td>\n      <td>5.0</td>\n      <td>10.00</td>\n      <td>18.5</td>\n      <td>55.50</td>\n      <td>399.0</td>\n    </tr>\n    <tr>\n      <th>without backports</th>\n      <td>648.0</td>\n      <td>40.364198</td>\n      <td>219.559564</td>\n      <td>5.0</td>\n      <td>6.00</td>\n      <td>10.0</td>\n      <td>23.25</td>\n      <td>4883.0</td>\n    </tr>\n    <tr>\n      <th rowspan=\"2\" valign=\"top\">npm</th>\n      <th>with backports</th>\n      <td>1010.0</td>\n      <td>279.304950</td>\n      <td>1360.764012</td>\n      <td>5.0</td>\n      <td>9.00</td>\n      <td>20.0</td>\n      <td>72.00</td>\n      <td>26163.0</td>\n    </tr>\n    <tr>\n      <th>without backports</th>\n      <td>14271.0</td>\n      <td>51.835541</td>\n      <td>373.278294</td>\n      <td>5.0</td>\n      <td>6.00</td>\n      <td>10.0</td>\n      <td>22.00</td>\n      <td>18354.0</td>\n    </tr>\n  </tbody>\n</table>\n</div>"
     },
     "execution_count": 82,
     "metadata": {},
     "output_type": "execute_result"
    }
   ],
   "source": [
    "(\n",
    "    data\n",
    "    .assign(backports=lambda d: d['backports'] > 0)\n",
    "    .replace({'backports': {True: 'with backports', False: 'without backports'}})\n",
    "    .groupby(['ecosystem', 'backports'])\n",
    "    .apply(lambda g: g[['dependents']].describe())\n",
    "    .unstack()\n",
    ")\n"
   ],
   "metadata": {
    "collapsed": false,
    "pycharm": {
     "name": "#%%\n"
    }
   }
  },
  {
   "cell_type": "code",
   "execution_count": 83,
   "outputs": [
    {
     "name": "stdout",
     "output_type": "stream",
     "text": [
      "npm        with vs. without: p=0.00000; d=0.311 (small)\n",
      "PyPi       with vs. without: p=0.00004; d=0.316 (small)\n",
      "Maven      with vs. without: p=0.30190; d=0.049 (negligible)\n"
     ]
    }
   ],
   "source": [
    "for ecosystem in ECOSYSTEMS:\n",
    "    A = data[lambda d: (d['ecosystem'] == ecosystem) & (d['backports'] > 0)].dependents\n",
    "    B = data[lambda d: (d['ecosystem'] == ecosystem) & (d['backports'] == 0)].dependents\n",
    "    m = mannwhitneyu(A, B)\n",
    "    d, dl = cliffsDelta(A, B)\n",
    "\n",
    "    print('{:10} with vs. without: p={:.5f}; d={:.3f} ({})'.format(ecosystem, m.pvalue, d, dl))\n"
   ],
   "metadata": {
    "collapsed": false,
    "pycharm": {
     "name": "#%%\n"
    }
   }
  },
  {
   "cell_type": "markdown",
   "source": [
    "## RQ4: Does backporting affect the upkeep of lower major releases?\n"
   ],
   "metadata": {
    "collapsed": false,
    "pycharm": {
     "name": "#%% md\n"
    }
   }
  },
  {
   "cell_type": "markdown",
   "source": [
    "### Lifespan of lower major trains with and without backports\n"
   ],
   "metadata": {
    "collapsed": false,
    "pycharm": {
     "name": "#%% md\n"
    }
   }
  },
  {
   "cell_type": "code",
   "execution_count": 84,
   "outputs": [],
   "source": [
    "data = pandas.concat([\n",
    "    df_required[ecosystem]\n",
    "    .groupby(['package', 'major'], sort=False, as_index=False)\n",
    "    .agg(\n",
    "        backport=('backported', 'max'),\n",
    "        date_first=('date', 'first'),\n",
    "        date_last=('date', 'last'),\n",
    "        rank_first=('rank', 'first'),\n",
    "        rank_last=('rank', 'last'),\n",
    "    )\n",
    "    .assign(time=lambda d: (d['date_last'] - d['date_first']) / pandas.to_timedelta('30 day'))\n",
    "    .assign(versions=lambda d: d['rank_last'] - d['rank_first'] + 1)\n",
    "    .assign(ecosystem=ecosystem)\n",
    "    for ecosystem in ECOSYSTEMS],\n",
    ")\n"
   ],
   "metadata": {
    "collapsed": false,
    "pycharm": {
     "name": "#%%\n"
    }
   }
  },
  {
   "cell_type": "code",
   "execution_count": 85,
   "outputs": [],
   "source": [
    "temp = (\n",
    "    data\n",
    "    .groupby(['ecosystem', 'package'], sort=False)\n",
    "    .filter(lambda g: g['backport'].max())\n",
    "    .sort_values('major')\n",
    "    .groupby(['ecosystem', 'package'], as_index=False, sort=False)\n",
    "    .apply(lambda g: g.iloc[:-1])\n",
    ")\n"
   ],
   "metadata": {
    "collapsed": false,
    "pycharm": {
     "name": "#%%\n"
    }
   }
  },
  {
   "cell_type": "code",
   "execution_count": 86,
   "outputs": [
    {
     "data": {
      "text/plain": "<Figure size 432x216 with 1 Axes>",
      "image/png": "[encoded data removed]"
     },
     "metadata": {
      "needs_background": "light"
     },
     "output_type": "display_data"
    }
   ],
   "source": [
    "fig, ax = matplotlib.pyplot.subplots()\n",
    "\n",
    "seaborn.boxenplot(\n",
    "    x='ecosystem',\n",
    "    y='time',\n",
    "    hue='backport',\n",
    "    data=(\n",
    "        temp\n",
    "        .replace({'backport': {True: 'with backports', False: 'without backports'}})\n",
    "    ),\n",
    "    order=ECOSYSTEMS,\n",
    "    palette=PAL_REL,\n",
    "    ax=ax,\n",
    ")\n",
    "\n",
    "ax.legend(title=None, ncol=2, loc='lower center',\n",
    "    bbox_to_anchor=(0.5, -0.32))\n",
    "ax.yaxis.set_major_locator(matplotlib.ticker.MultipleLocator(base=12))\n",
    "\n",
    "ax.set(\n",
    "    xlabel='',\n",
    "    ylabel='lifetime of major train\\n(in months)',\n",
    "    ylim=(0, 72),\n",
    ")\n",
    "\n",
    "savefig(fig, 'support_time_restricted')\n"
   ],
   "metadata": {
    "collapsed": false,
    "pycharm": {
     "name": "#%%\n"
    }
   }
  },
  {
   "cell_type": "code",
   "execution_count": 87,
   "outputs": [
    {
     "name": "stdout",
     "output_type": "stream",
     "text": [
      "time                 count       mean        std       min        25%        50%        75%         max\n",
      "ecosystem backport                                                                                     \n",
      "Maven     False       18.0  13.663653  12.704368  0.000000   4.921752  10.765918  20.689320   48.810062\n",
      "          True        61.0  40.961066  23.803336  4.000000  25.652873  38.735617  48.736078  123.639315\n",
      "PyPi      False       87.0  13.840673  18.110929  0.000000   1.970491   6.655585  17.728548   76.084005\n",
      "          True        88.0  29.949080  26.554903  1.537065   9.208001  22.702155  41.955896  114.853694\n",
      "npm       False     2380.0   5.394059   8.397848  0.000000   0.237647   2.250098   6.866002   73.408870\n",
      "          True      1279.0  17.559939  14.411895  0.000095   7.204307  14.457792  22.405671   91.062278\n"
     ]
    }
   ],
   "source": [
    "print(\n",
    "    temp\n",
    "    .groupby(['ecosystem', 'backport'])\n",
    "    .apply(lambda d: d['time'].describe())\n",
    "    .to_string()\n",
    ")\n"
   ],
   "metadata": {
    "collapsed": false,
    "pycharm": {
     "name": "#%%\n"
    }
   }
  },
  {
   "cell_type": "code",
   "execution_count": 88,
   "outputs": [
    {
     "data": {
      "text/plain": "backport       False       True     ratio\necosystem                                \nMaven      10.765918  38.735617  3.597985\nPyPi        6.655585  22.702155  3.410993\nnpm         2.250098  14.457792  6.425406",
      "text/html": "<div>\n<style scoped>\n    .dataframe tbody tr th:only-of-type {\n        vertical-align: middle;\n    }\n\n    .dataframe tbody tr th {\n        vertical-align: top;\n    }\n\n    .dataframe thead th {\n        text-align: right;\n    }\n</style>\n<table border=\"1\" class=\"dataframe\">\n  <thead>\n    <tr style=\"text-align: right;\">\n      <th>backport</th>\n      <th>False</th>\n      <th>True</th>\n      <th>ratio</th>\n    </tr>\n    <tr>\n      <th>ecosystem</th>\n      <th></th>\n      <th></th>\n      <th></th>\n    </tr>\n  </thead>\n  <tbody>\n    <tr>\n      <th>Maven</th>\n      <td>10.765918</td>\n      <td>38.735617</td>\n      <td>3.597985</td>\n    </tr>\n    <tr>\n      <th>PyPi</th>\n      <td>6.655585</td>\n      <td>22.702155</td>\n      <td>3.410993</td>\n    </tr>\n    <tr>\n      <th>npm</th>\n      <td>2.250098</td>\n      <td>14.457792</td>\n      <td>6.425406</td>\n    </tr>\n  </tbody>\n</table>\n</div>"
     },
     "execution_count": 88,
     "metadata": {},
     "output_type": "execute_result"
    }
   ],
   "source": [
    "(\n",
    "    temp\n",
    "    .groupby(['ecosystem', 'backport'])\n",
    "    .apply(lambda d: d['time'].describe())\n",
    "    ['50%']\n",
    "    .unstack()\n",
    "    .assign(ratio=lambda d: d[True] / d[False])\n",
    ")\n"
   ],
   "metadata": {
    "collapsed": false,
    "pycharm": {
     "name": "#%%\n"
    }
   }
  },
  {
   "cell_type": "code",
   "execution_count": 89,
   "outputs": [
    {
     "data": {
      "text/plain": "                  mean    median\necosystem                       \nMaven         3.101547  3.556914\nPyPi          3.164018  1.674874\nnpm        1148.183187  2.107005",
      "text/html": "<div>\n<style scoped>\n    .dataframe tbody tr th:only-of-type {\n        vertical-align: middle;\n    }\n\n    .dataframe tbody tr th {\n        vertical-align: top;\n    }\n\n    .dataframe thead th {\n        text-align: right;\n    }\n</style>\n<table border=\"1\" class=\"dataframe\">\n  <thead>\n    <tr style=\"text-align: right;\">\n      <th></th>\n      <th>mean</th>\n      <th>median</th>\n    </tr>\n    <tr>\n      <th>ecosystem</th>\n      <th></th>\n      <th></th>\n    </tr>\n  </thead>\n  <tbody>\n    <tr>\n      <th>Maven</th>\n      <td>3.101547</td>\n      <td>3.556914</td>\n    </tr>\n    <tr>\n      <th>PyPi</th>\n      <td>3.164018</td>\n      <td>1.674874</td>\n    </tr>\n    <tr>\n      <th>npm</th>\n      <td>1148.183187</td>\n      <td>2.107005</td>\n    </tr>\n  </tbody>\n</table>\n</div>"
     },
     "execution_count": 89,
     "metadata": {},
     "output_type": "execute_result"
    }
   ],
   "source": [
    "(\n",
    "    temp\n",
    "    .groupby(['ecosystem', 'package', 'backport'])\n",
    "    .agg({'time': 'mean'})\n",
    "    .unstack()\n",
    "    ['time']\n",
    "    .assign(ratio=lambda d: d[True] / d[False])\n",
    "    [lambda d: d['ratio'] != np.inf]\n",
    "    .groupby(['ecosystem'])\n",
    "    .agg(mean=('ratio', 'mean'), median=('ratio', 'median'))\n",
    ")\n"
   ],
   "metadata": {
    "collapsed": false,
    "pycharm": {
     "name": "#%%\n"
    }
   }
  },
  {
   "cell_type": "code",
   "execution_count": 90,
   "outputs": [
    {
     "name": "stdout",
     "output_type": "stream",
     "text": [
      "npm        with vs. without: p=0.00000; d=0.666 (large)\n",
      "PyPi       with vs. without: p=0.00000; d=0.470 (medium)\n",
      "Maven      with vs. without: p=0.00000; d=0.772 (large)\n"
     ]
    }
   ],
   "source": [
    "for ecosystem in ECOSYSTEMS:\n",
    "    A = temp[lambda d: (d['ecosystem'] == ecosystem) & d['backport']].time\n",
    "    B = temp[lambda d: (d['ecosystem'] == ecosystem) & ~d['backport']].time\n",
    "    m = mannwhitneyu(A, B)\n",
    "    d, dl = cliffsDelta(A, B)\n",
    "\n",
    "    print('{:10} with vs. without: p={:.5f}; d={:.3f} ({})'.format(ecosystem, m.pvalue, d, dl))\n"
   ],
   "metadata": {
    "collapsed": false,
    "pycharm": {
     "name": "#%%\n"
    }
   }
  },
  {
   "cell_type": "markdown",
   "source": [
    "### Major trains and backporting"
   ],
   "metadata": {
    "collapsed": false,
    "pycharm": {
     "name": "#%% md\n"
    }
   }
  },
  {
   "cell_type": "code",
   "execution_count": 94,
   "outputs": [],
   "source": [
    "data = pandas.concat([\n",
    "    df_required[ecosystem]\n",
    "    # Get dependents for each release\n",
    "    .merge(\n",
    "        df_dependents[ecosystem]\n",
    "        [['source', 'target', 'selected']],\n",
    "        how='left',\n",
    "        left_on=['package', 'rank'],\n",
    "        right_on=['target', 'selected']\n",
    "    )\n",
    "    # Group per major release, and count dependents\n",
    "    .groupby(['package', 'major'], as_index=False)\n",
    "    .agg({'source': 'count', 'backported': 'sum'})\n",
    "    # For each package, get nb major, used major, dependents and backports\n",
    "    .assign(used_major=lambda d: d['source'] > 0)\n",
    "    .groupby('package', as_index=False, sort=False)\n",
    "    .agg(\n",
    "        major=('major', 'count'),\n",
    "        used_major=('used_major', 'sum'),\n",
    "        backports=('backported', 'sum')\n",
    "    )\n",
    "    .merge(\n",
    "        df_dependents[ecosystem]\n",
    "        .groupby('target', sort=False, as_index=False)\n",
    "        .agg(dependents=('source', 'count')),\n",
    "        how='left',\n",
    "        left_on='package',\n",
    "        right_on='target',\n",
    "    )\n",
    "    .assign(ecosystem=ecosystem)\n",
    "    for ecosystem in ECOSYSTEMS]\n",
    ")"
   ],
   "metadata": {
    "collapsed": false,
    "pycharm": {
     "name": "#%%\n"
    }
   }
  },
  {
   "cell_type": "code",
   "execution_count": 95,
   "outputs": [
    {
     "data": {
      "text/plain": "                            used_major                                     \\\n                                 count      mean       std  min  25%  50%   \necosystem backports                                                         \nMaven     with backports          47.0  1.382979  0.677373  0.0  1.0  1.0   \n          without backports       58.0  1.310345  0.598445  0.0  1.0  1.0   \nPyPi      with backports          56.0  1.500000  0.894427  1.0  1.0  1.0   \n          without backports      348.0  1.218391  0.633826  0.0  1.0  1.0   \nnpm       with backports        1010.0  2.526733  1.630294  0.0  2.0  2.0   \n          without backports     7860.0  1.948728  1.221407  0.0  1.0  2.0   \n\n                                        \n                             75%   max  \necosystem backports                     \nMaven     with backports     2.0   3.0  \n          without backports  2.0   4.0  \nPyPi      with backports     2.0   5.0  \n          without backports  1.0   6.0  \nnpm       with backports     3.0  15.0  \n          without backports  2.0  30.0  ",
      "text/html": "<div>\n<style scoped>\n    .dataframe tbody tr th:only-of-type {\n        vertical-align: middle;\n    }\n\n    .dataframe tbody tr th {\n        vertical-align: top;\n    }\n\n    .dataframe thead tr th {\n        text-align: left;\n    }\n\n    .dataframe thead tr:last-of-type th {\n        text-align: right;\n    }\n</style>\n<table border=\"1\" class=\"dataframe\">\n  <thead>\n    <tr>\n      <th></th>\n      <th></th>\n      <th colspan=\"8\" halign=\"left\">used_major</th>\n    </tr>\n    <tr>\n      <th></th>\n      <th></th>\n      <th>count</th>\n      <th>mean</th>\n      <th>std</th>\n      <th>min</th>\n      <th>25%</th>\n      <th>50%</th>\n      <th>75%</th>\n      <th>max</th>\n    </tr>\n    <tr>\n      <th>ecosystem</th>\n      <th>backports</th>\n      <th></th>\n      <th></th>\n      <th></th>\n      <th></th>\n      <th></th>\n      <th></th>\n      <th></th>\n      <th></th>\n    </tr>\n  </thead>\n  <tbody>\n    <tr>\n      <th rowspan=\"2\" valign=\"top\">Maven</th>\n      <th>with backports</th>\n      <td>47.0</td>\n      <td>1.382979</td>\n      <td>0.677373</td>\n      <td>0.0</td>\n      <td>1.0</td>\n      <td>1.0</td>\n      <td>2.0</td>\n      <td>3.0</td>\n    </tr>\n    <tr>\n      <th>without backports</th>\n      <td>58.0</td>\n      <td>1.310345</td>\n      <td>0.598445</td>\n      <td>0.0</td>\n      <td>1.0</td>\n      <td>1.0</td>\n      <td>2.0</td>\n      <td>4.0</td>\n    </tr>\n    <tr>\n      <th rowspan=\"2\" valign=\"top\">PyPi</th>\n      <th>with backports</th>\n      <td>56.0</td>\n      <td>1.500000</td>\n      <td>0.894427</td>\n      <td>1.0</td>\n      <td>1.0</td>\n      <td>1.0</td>\n      <td>2.0</td>\n      <td>5.0</td>\n    </tr>\n    <tr>\n      <th>without backports</th>\n      <td>348.0</td>\n      <td>1.218391</td>\n      <td>0.633826</td>\n      <td>0.0</td>\n      <td>1.0</td>\n      <td>1.0</td>\n      <td>1.0</td>\n      <td>6.0</td>\n    </tr>\n    <tr>\n      <th rowspan=\"2\" valign=\"top\">npm</th>\n      <th>with backports</th>\n      <td>1010.0</td>\n      <td>2.526733</td>\n      <td>1.630294</td>\n      <td>0.0</td>\n      <td>2.0</td>\n      <td>2.0</td>\n      <td>3.0</td>\n      <td>15.0</td>\n    </tr>\n    <tr>\n      <th>without backports</th>\n      <td>7860.0</td>\n      <td>1.948728</td>\n      <td>1.221407</td>\n      <td>0.0</td>\n      <td>1.0</td>\n      <td>2.0</td>\n      <td>2.0</td>\n      <td>30.0</td>\n    </tr>\n  </tbody>\n</table>\n</div>"
     },
     "execution_count": 95,
     "metadata": {},
     "output_type": "execute_result"
    }
   ],
   "source": [
    "(\n",
    "    data\n",
    "    [lambda d: d['major'] >= 2]\n",
    "    .assign(backports=lambda d: d['backports'] > 0)\n",
    "    .replace({'backports': {True: 'with backports', False: 'without backports'}})\n",
    "    .groupby(['ecosystem', 'backports'])\n",
    "    .apply(lambda g: g[['used_major']].describe())\n",
    "    .unstack()\n",
    ")"
   ],
   "metadata": {
    "collapsed": false,
    "pycharm": {
     "name": "#%%\n"
    }
   }
  },
  {
   "cell_type": "code",
   "execution_count": 96,
   "outputs": [
    {
     "data": {
      "text/plain": "<Figure size 432x216 with 1 Axes>",
      "image/png": "[encoded data removed]"
     },
     "metadata": {
      "needs_background": "light"
     },
     "output_type": "display_data"
    }
   ],
   "source": [
    "fig, ax = matplotlib.pyplot.subplots()\n",
    "\n",
    "temp = (\n",
    "    data\n",
    "    [lambda d: (d['major'] >= 2) & (d['used_major'] >= 1)]\n",
    "    .assign(backports=lambda d: d['backports'] > 0)\n",
    "    .replace({'backports': {True: 'with backports', False: 'without backports'}})\n",
    "    .assign(used_major=lambda d: d['used_major'].where(d['used_major'] < 5, '5+'))\n",
    "    .groupby(['used_major', 'backports'])\n",
    "    .agg({'package': 'count'})\n",
    "    .groupby('backports')\n",
    "    .apply(lambda g: g / g.sum())\n",
    "    .reset_index()\n",
    ")\n",
    "\n",
    "\n",
    "seaborn.barplot(\n",
    "    x='used_major',\n",
    "    y='package',\n",
    "    hue='backports',\n",
    "    hue_order=['without backports', 'with backports'],\n",
    "    data=temp,\n",
    "    palette=PAL_REL,\n",
    "    ax=ax,\n",
    ")\n",
    "\n",
    "\n",
    "for i, backports in enumerate(['without backports', 'with backports']):\n",
    "    for j, label in enumerate([1, 2, 3, 4, '5+']):\n",
    "        value = temp[lambda d: (d['backports'] == backports) & (d['used_major'] == label)].iloc[0].package\n",
    "        x = j - 0.20 if i == 0 else j + 0.20\n",
    "        ax.annotate('{:.0f}'.format(100 * value), (x, value + 0.03), ha='center', va='center')\n",
    "\n",
    "\n",
    "ax.legend(title=None, ncol=1)\n",
    "\n",
    "ax.set(\n",
    "    xlabel='number of required major trains',\n",
    "    ylabel='proportion of packages',\n",
    "    ylim=(0, 0.5),\n",
    ")\n",
    "\n",
    "savefig(fig, 'prev_backport_used_major_barplot')\n"
   ],
   "metadata": {
    "collapsed": false,
    "pycharm": {
     "name": "#%%\n"
    }
   }
  },
  {
   "cell_type": "markdown",
   "source": [
    "#### Visualizing for npm\n"
   ],
   "metadata": {
    "collapsed": false,
    "pycharm": {
     "name": "#%% md\n"
    }
   }
  },
  {
   "cell_type": "code",
   "execution_count": 97,
   "outputs": [
    {
     "data": {
      "text/plain": "                            used_major                                     \\\n                                 count      mean       std  min  25%  50%   \necosystem backports                                                         \nnpm       with backports        1010.0  2.526733  1.630294  0.0  2.0  2.0   \n          without backports     7860.0  1.948728  1.221407  0.0  1.0  2.0   \n\n                                        \n                             75%   max  \necosystem backports                     \nnpm       with backports     3.0  15.0  \n          without backports  2.0  30.0  ",
      "text/html": "<div>\n<style scoped>\n    .dataframe tbody tr th:only-of-type {\n        vertical-align: middle;\n    }\n\n    .dataframe tbody tr th {\n        vertical-align: top;\n    }\n\n    .dataframe thead tr th {\n        text-align: left;\n    }\n\n    .dataframe thead tr:last-of-type th {\n        text-align: right;\n    }\n</style>\n<table border=\"1\" class=\"dataframe\">\n  <thead>\n    <tr>\n      <th></th>\n      <th></th>\n      <th colspan=\"8\" halign=\"left\">used_major</th>\n    </tr>\n    <tr>\n      <th></th>\n      <th></th>\n      <th>count</th>\n      <th>mean</th>\n      <th>std</th>\n      <th>min</th>\n      <th>25%</th>\n      <th>50%</th>\n      <th>75%</th>\n      <th>max</th>\n    </tr>\n    <tr>\n      <th>ecosystem</th>\n      <th>backports</th>\n      <th></th>\n      <th></th>\n      <th></th>\n      <th></th>\n      <th></th>\n      <th></th>\n      <th></th>\n      <th></th>\n    </tr>\n  </thead>\n  <tbody>\n    <tr>\n      <th rowspan=\"2\" valign=\"top\">npm</th>\n      <th>with backports</th>\n      <td>1010.0</td>\n      <td>2.526733</td>\n      <td>1.630294</td>\n      <td>0.0</td>\n      <td>2.0</td>\n      <td>2.0</td>\n      <td>3.0</td>\n      <td>15.0</td>\n    </tr>\n    <tr>\n      <th>without backports</th>\n      <td>7860.0</td>\n      <td>1.948728</td>\n      <td>1.221407</td>\n      <td>0.0</td>\n      <td>1.0</td>\n      <td>2.0</td>\n      <td>2.0</td>\n      <td>30.0</td>\n    </tr>\n  </tbody>\n</table>\n</div>"
     },
     "execution_count": 97,
     "metadata": {},
     "output_type": "execute_result"
    }
   ],
   "source": [
    "data = pandas.concat([\n",
    "    df_required[ecosystem]\n",
    "    # Get dependents for each release\n",
    "    .merge(\n",
    "        df_dependents[ecosystem]\n",
    "        [['source', 'target', 'selected']],\n",
    "        how='left',\n",
    "        left_on=['package', 'rank'],\n",
    "        right_on=['target', 'selected']\n",
    "    )\n",
    "    # Group per major release, and count dependents\n",
    "    .groupby(['package', 'major'], as_index=False)\n",
    "    .agg({'source': 'count', 'backported': 'sum'})\n",
    "    # For each package, get nb major, used major, dependents and backports\n",
    "    .assign(used_major=lambda d: d['source'] > 0)\n",
    "    .groupby('package', as_index=False, sort=False)\n",
    "    .agg(\n",
    "        major=('major', 'count'),\n",
    "        used_major=('used_major', 'sum'),\n",
    "        backports=('backported', 'sum')\n",
    "    )\n",
    "    .merge(\n",
    "        df_dependents[ecosystem]\n",
    "        .groupby('target', sort=False, as_index=False)\n",
    "        .agg(dependents=('source', 'count')),\n",
    "        how='left',\n",
    "        left_on='package',\n",
    "        right_on='target',\n",
    "    )\n",
    "    .assign(ecosystem=ecosystem)\n",
    "    for ecosystem in ['npm']]\n",
    ")\n",
    "(\n",
    "    data\n",
    "    [lambda d: d['major'] >= 2]\n",
    "    .assign(backports=lambda d: d['backports'] > 0)\n",
    "    .replace({'backports': {True: 'with backports', False: 'without backports'}})\n",
    "    .groupby(['ecosystem', 'backports'])\n",
    "    .apply(lambda g: g[['used_major']].describe())\n",
    "    .unstack()\n",
    ")\n"
   ],
   "metadata": {
    "collapsed": false,
    "pycharm": {
     "name": "#%%\n"
    }
   }
  },
  {
   "cell_type": "code",
   "execution_count": 98,
   "outputs": [
    {
     "data": {
      "text/plain": "<Figure size 432x216 with 1 Axes>",
      "image/png": "[encoded data removed]"
     },
     "metadata": {
      "needs_background": "light"
     },
     "output_type": "display_data"
    }
   ],
   "source": [
    "fig, ax = matplotlib.pyplot.subplots()\n",
    "\n",
    "temp = (\n",
    "    data\n",
    "    [lambda d: (d['major'] >= 2) & (d['used_major'] >= 1)]\n",
    "    .assign(backports=lambda d: d['backports'] > 0)\n",
    "    .replace({'backports': {True: 'with backports', False: 'without backports'}})\n",
    "    .assign(used_major=lambda d: d['used_major'].where(d['used_major'] < 5, '5+'))\n",
    "    .groupby(['used_major', 'backports'])\n",
    "    .agg({'package': 'count'})\n",
    "    .groupby('backports')\n",
    "    .apply(lambda g: g / g.sum())\n",
    "    .reset_index()\n",
    ")\n",
    "\n",
    "\n",
    "seaborn.barplot(\n",
    "    x='used_major',\n",
    "    y='package',\n",
    "    hue='backports',\n",
    "    hue_order=['without backports', 'with backports'],\n",
    "    data=temp,\n",
    "    palette=PAL_REL,\n",
    "    ax=ax,\n",
    ")\n",
    "\n",
    "\n",
    "for i, backports in enumerate(['without backports', 'with backports']):\n",
    "    for j, label in enumerate([1, 2, 3, 4, '5+']):\n",
    "        value = temp[lambda d: (d['backports'] == backports) & (d['used_major'] == label)].iloc[0].package\n",
    "        x = j - 0.20 if i == 0 else j + 0.20\n",
    "        ax.annotate('{:.0f}'.format(100 * value), (x, value + 0.03), ha='center', va='center')\n",
    "\n",
    "\n",
    "ax.legend(title=None, ncol=1)\n",
    "\n",
    "ax.set(\n",
    "    xlabel='number of required major trains (npm)',\n",
    "    ylabel='proportion of packages (npm)',\n",
    "    ylim=(0, 0.5),\n",
    ")\n",
    "\n",
    "savefig(fig, 'prev_backport_used_major_barplot_npm')\n"
   ],
   "metadata": {
    "collapsed": false,
    "pycharm": {
     "name": "#%%\n"
    }
   }
  },
  {
   "cell_type": "markdown",
   "source": [
    "#### Visualizing for PyPi\n"
   ],
   "metadata": {
    "collapsed": false,
    "pycharm": {
     "name": "#%% md\n"
    }
   }
  },
  {
   "cell_type": "code",
   "execution_count": 106,
   "outputs": [
    {
     "data": {
      "text/plain": "                            used_major                                     \\\n                                 count      mean       std  min  25%  50%   \necosystem backports                                                         \nPyPi      with backports          56.0  1.500000  0.894427  1.0  1.0  1.0   \n          without backports      348.0  1.218391  0.633826  0.0  1.0  1.0   \n\n                                       \n                             75%  max  \necosystem backports                    \nPyPi      with backports     2.0  5.0  \n          without backports  1.0  6.0  ",
      "text/html": "<div>\n<style scoped>\n    .dataframe tbody tr th:only-of-type {\n        vertical-align: middle;\n    }\n\n    .dataframe tbody tr th {\n        vertical-align: top;\n    }\n\n    .dataframe thead tr th {\n        text-align: left;\n    }\n\n    .dataframe thead tr:last-of-type th {\n        text-align: right;\n    }\n</style>\n<table border=\"1\" class=\"dataframe\">\n  <thead>\n    <tr>\n      <th></th>\n      <th></th>\n      <th colspan=\"8\" halign=\"left\">used_major</th>\n    </tr>\n    <tr>\n      <th></th>\n      <th></th>\n      <th>count</th>\n      <th>mean</th>\n      <th>std</th>\n      <th>min</th>\n      <th>25%</th>\n      <th>50%</th>\n      <th>75%</th>\n      <th>max</th>\n    </tr>\n    <tr>\n      <th>ecosystem</th>\n      <th>backports</th>\n      <th></th>\n      <th></th>\n      <th></th>\n      <th></th>\n      <th></th>\n      <th></th>\n      <th></th>\n      <th></th>\n    </tr>\n  </thead>\n  <tbody>\n    <tr>\n      <th rowspan=\"2\" valign=\"top\">PyPi</th>\n      <th>with backports</th>\n      <td>56.0</td>\n      <td>1.500000</td>\n      <td>0.894427</td>\n      <td>1.0</td>\n      <td>1.0</td>\n      <td>1.0</td>\n      <td>2.0</td>\n      <td>5.0</td>\n    </tr>\n    <tr>\n      <th>without backports</th>\n      <td>348.0</td>\n      <td>1.218391</td>\n      <td>0.633826</td>\n      <td>0.0</td>\n      <td>1.0</td>\n      <td>1.0</td>\n      <td>1.0</td>\n      <td>6.0</td>\n    </tr>\n  </tbody>\n</table>\n</div>"
     },
     "execution_count": 106,
     "metadata": {},
     "output_type": "execute_result"
    }
   ],
   "source": [
    "data = pandas.concat([\n",
    "    df_required[ecosystem]\n",
    "    # Get dependents for each release\n",
    "    .merge(\n",
    "        df_dependents[ecosystem]\n",
    "        [['source', 'target', 'selected']],\n",
    "        how='left',\n",
    "        left_on=['package', 'rank'],\n",
    "        right_on=['target', 'selected']\n",
    "    )\n",
    "    # Group per major release, and count dependents\n",
    "    .groupby(['package', 'major'], as_index=False)\n",
    "    .agg({'source': 'count', 'backported': 'sum'})\n",
    "    # For each package, get nb major, used major, dependents and backports\n",
    "    .assign(used_major=lambda d: d['source'] > 0)\n",
    "    .groupby('package', as_index=False, sort=False)\n",
    "    .agg(\n",
    "        major=('major', 'count'),\n",
    "        used_major=('used_major', 'sum'),\n",
    "        backports=('backported', 'sum')\n",
    "    )\n",
    "    .merge(\n",
    "        df_dependents[ecosystem]\n",
    "        .groupby('target', sort=False, as_index=False)\n",
    "        .agg(dependents=('source', 'count')),\n",
    "        how='left',\n",
    "        left_on='package',\n",
    "        right_on='target',\n",
    "    )\n",
    "    .assign(ecosystem=ecosystem)\n",
    "    for ecosystem in ['PyPi']]\n",
    ")\n",
    "(\n",
    "    data\n",
    "    [lambda d: d['major'] >= 2]\n",
    "    .assign(backports=lambda d: d['backports'] > 0)\n",
    "    .replace({'backports': {True: 'with backports', False: 'without backports'}})\n",
    "    .groupby(['ecosystem', 'backports'])\n",
    "    .apply(lambda g: g[['used_major']].describe())\n",
    "    .unstack()\n",
    ")\n"
   ],
   "metadata": {
    "collapsed": false,
    "pycharm": {
     "name": "#%%\n"
    }
   }
  },
  {
   "cell_type": "code",
   "execution_count": 101,
   "outputs": [
    {
     "data": {
      "text/plain": "<Figure size 432x216 with 1 Axes>",
      "image/png": "[encoded data removed]"
     },
     "metadata": {
      "needs_background": "light"
     },
     "output_type": "display_data"
    }
   ],
   "source": [
    "fig, ax = matplotlib.pyplot.subplots()\n",
    "\n",
    "temp = (\n",
    "    data\n",
    "    [lambda d: (d['major'] >= 2) & (d['used_major'] >= 1)]\n",
    "    .assign(backports=lambda d: d['backports'] > 0)\n",
    "    .replace({'backports': {True: 'with backports', False: 'without backports'}})\n",
    "    .assign(used_major=lambda d: d['used_major'].where(d['used_major'] < 5, '5+'))\n",
    "    .groupby(['used_major', 'backports'])\n",
    "    .agg({'package': 'count'})\n",
    "    .groupby('backports')\n",
    "    .apply(lambda g: g / g.sum())\n",
    "    .reset_index()\n",
    ")\n",
    "\n",
    "\n",
    "seaborn.barplot(\n",
    "    x='used_major',\n",
    "    y='package',\n",
    "    hue='backports',\n",
    "    hue_order=['without backports', 'with backports'],\n",
    "    data=temp,\n",
    "    palette=PAL_REL,\n",
    "    ax=ax,\n",
    ")\n",
    "\n",
    "\n",
    "for i, backports in enumerate(['without backports', 'with backports']):\n",
    "    for j, label in enumerate([1, 2, 3, 4, '5+']):\n",
    "        value = temp[lambda d: (d['backports'] == backports) & (d['used_major'] == label)].iloc[0].package\n",
    "        x = j - 0.20 if i == 0 else j + 0.20\n",
    "        ax.annotate('{:.0f}'.format(100 * value), (x, value + 0.03), ha='center', va='center')\n",
    "\n",
    "\n",
    "ax.legend(title=None, ncol=1)\n",
    "\n",
    "ax.set(\n",
    "    xlabel='number of required major trains (PyPi)',\n",
    "    ylabel='proportion of packages (PyPi)',\n",
    "    ylim=(0, 0.9),\n",
    ")\n",
    "\n",
    "savefig(fig, 'prev_backport_used_major_barplot_PyPi')\n"
   ],
   "metadata": {
    "collapsed": false,
    "pycharm": {
     "name": "#%%\n"
    }
   }
  },
  {
   "cell_type": "markdown",
   "source": [
    "#### Visualizing for Maven\n"
   ],
   "metadata": {
    "collapsed": false,
    "pycharm": {
     "name": "#%% md\n"
    }
   }
  },
  {
   "cell_type": "code",
   "execution_count": 148,
   "outputs": [
    {
     "data": {
      "text/plain": "                            used_major                                     \\\n                                 count      mean       std  min  25%  50%   \necosystem backports                                                         \nMaven     with backports          47.0  1.382979  0.677373  0.0  1.0  1.0   \n          without backports       58.0  1.310345  0.598445  0.0  1.0  1.0   \n\n                                       \n                             75%  max  \necosystem backports                    \nMaven     with backports     2.0  3.0  \n          without backports  2.0  4.0  ",
      "text/html": "<div>\n<style scoped>\n    .dataframe tbody tr th:only-of-type {\n        vertical-align: middle;\n    }\n\n    .dataframe tbody tr th {\n        vertical-align: top;\n    }\n\n    .dataframe thead tr th {\n        text-align: left;\n    }\n\n    .dataframe thead tr:last-of-type th {\n        text-align: right;\n    }\n</style>\n<table border=\"1\" class=\"dataframe\">\n  <thead>\n    <tr>\n      <th></th>\n      <th></th>\n      <th colspan=\"8\" halign=\"left\">used_major</th>\n    </tr>\n    <tr>\n      <th></th>\n      <th></th>\n      <th>count</th>\n      <th>mean</th>\n      <th>std</th>\n      <th>min</th>\n      <th>25%</th>\n      <th>50%</th>\n      <th>75%</th>\n      <th>max</th>\n    </tr>\n    <tr>\n      <th>ecosystem</th>\n      <th>backports</th>\n      <th></th>\n      <th></th>\n      <th></th>\n      <th></th>\n      <th></th>\n      <th></th>\n      <th></th>\n      <th></th>\n    </tr>\n  </thead>\n  <tbody>\n    <tr>\n      <th rowspan=\"2\" valign=\"top\">Maven</th>\n      <th>with backports</th>\n      <td>47.0</td>\n      <td>1.382979</td>\n      <td>0.677373</td>\n      <td>0.0</td>\n      <td>1.0</td>\n      <td>1.0</td>\n      <td>2.0</td>\n      <td>3.0</td>\n    </tr>\n    <tr>\n      <th>without backports</th>\n      <td>58.0</td>\n      <td>1.310345</td>\n      <td>0.598445</td>\n      <td>0.0</td>\n      <td>1.0</td>\n      <td>1.0</td>\n      <td>2.0</td>\n      <td>4.0</td>\n    </tr>\n  </tbody>\n</table>\n</div>"
     },
     "execution_count": 148,
     "metadata": {},
     "output_type": "execute_result"
    }
   ],
   "source": [
    "data = pandas.concat([\n",
    "    df_required[ecosystem]\n",
    "    # Get dependents for each release\n",
    "    .merge(\n",
    "        df_dependents[ecosystem]\n",
    "        [['source', 'target', 'selected']],\n",
    "        how='left',\n",
    "        left_on=['package', 'rank'],\n",
    "        right_on=['target', 'selected']\n",
    "    )\n",
    "    # Group per major release, and count dependents\n",
    "    .groupby(['package', 'major'], as_index=False)\n",
    "    .agg({'source': 'count', 'backported': 'sum'})\n",
    "    # For each package, get nb major, used major, dependents and backports\n",
    "    .assign(used_major=lambda d: d['source'] > 0)\n",
    "    .groupby('package', as_index=False, sort=False)\n",
    "    .agg(\n",
    "        major=('major', 'count'),\n",
    "        used_major=('used_major', 'sum'),\n",
    "        backports=('backported', 'sum')\n",
    "    )\n",
    "    .merge(\n",
    "        df_dependents[ecosystem]\n",
    "        .groupby('target', sort=False, as_index=False)\n",
    "        .agg(dependents=('source', 'count')),\n",
    "        how='left',\n",
    "        left_on='package',\n",
    "        right_on='target',\n",
    "    )\n",
    "    .assign(ecosystem=ecosystem)\n",
    "    for ecosystem in ['Maven']]\n",
    ")\n",
    "(\n",
    "    data\n",
    "    [lambda d: d['major'] >= 2]\n",
    "    .assign(backports=lambda d: d['backports'] > 0)\n",
    "    .replace({'backports': {True: 'with backports', False: 'without backports'}})\n",
    "    .groupby(['ecosystem', 'backports'])\n",
    "    .apply(lambda g: g[['used_major']].describe())\n",
    "    .unstack()\n",
    ")\n"
   ],
   "metadata": {
    "collapsed": false,
    "pycharm": {
     "name": "#%%\n"
    }
   }
  },
  {
   "cell_type": "code",
   "execution_count": 149,
   "outputs": [
    {
     "data": {
      "text/plain": "<Figure size 432x216 with 1 Axes>",
      "image/png": "[encoded data removed]"
     },
     "metadata": {
      "needs_background": "light"
     },
     "output_type": "display_data"
    }
   ],
   "source": [
    "fig, ax = matplotlib.pyplot.subplots()\n",
    "\n",
    "temp = (\n",
    "    data\n",
    "    [lambda d: (d['major'] >= 2) & (d['used_major'] >= 1)]\n",
    "    .assign(backports=lambda d: d['backports'] > 0)\n",
    "    .replace({'backports': {True: 'with backports', False: 'without backports'}})\n",
    "    .assign(used_major=lambda d: d['used_major'].where(d['used_major'] < 5, '5+'))\n",
    "    .groupby(['used_major', 'backports'])\n",
    "    .agg({'package': 'count'})\n",
    "    .groupby('backports')\n",
    "    .apply(lambda g: g / g.sum())\n",
    "    .reset_index()\n",
    ")\n",
    "temp = (temp\n",
    "    .assign(used_major=lambda d: d['used_major'].where(d['used_major'] < 3, 3)))\n",
    "\n",
    "seaborn.barplot(\n",
    "    x='used_major',\n",
    "    y='package',\n",
    "    hue='backports',\n",
    "    hue_order=['without backports', 'with backports'],\n",
    "    data=temp,\n",
    "    palette=PAL_REL,\n",
    "    ax=ax,\n",
    ")\n",
    "\n",
    "\n",
    "for i, backports in enumerate(['without backports', 'with backports']):\n",
    "    for j, label in enumerate([1, 2, 3]):\n",
    "        value = temp[lambda d: (d['backports'] == backports) & (d['used_major'] == label)].iloc[0].package\n",
    "        x = j - 0.20 if i == 0 else j + 0.20\n",
    "        ax.annotate('{:.0f}'.format(100 * value), (x, value + 0.03), ha='center', va='center')\n",
    "\n",
    "\n",
    "ax.legend(title=None, ncol=1)\n",
    "\n",
    "ax.set(\n",
    "    xlabel='number of required major trains (Maven)',\n",
    "    ylabel='proportion of packages (Maven)',\n",
    "    ylim=(0, 0.8),\n",
    ")\n",
    "\n",
    "savefig(fig, 'prev_backport_used_major_barplot_Maven')\n"
   ],
   "metadata": {
    "collapsed": false,
    "pycharm": {
     "name": "#%%\n"
    }
   }
  }
 ],
 "metadata": {
  "kernelspec": {
   "display_name": "Python 3",
   "language": "python",
   "name": "python3"
  },
  "language_info": {
   "codemirror_mode": {
    "name": "ipython",
    "version": 2
   },
   "file_extension": ".py",
   "mimetype": "text/x-python",
   "name": "python",
   "nbconvert_exporter": "python",
   "pygments_lexer": "ipython2",
   "version": "2.7.6"
  }
 },
 "nbformat": 4,
 "nbformat_minor": 0
}